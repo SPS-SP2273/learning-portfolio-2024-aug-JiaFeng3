{
 "cells": [
  {
   "cell_type": "code",
   "execution_count": 33,
   "id": "17e7131c-4b15-4769-a940-0cfc10fd468a",
   "metadata": {},
   "outputs": [
    {
     "name": "stdin",
     "output_type": "stream",
     "text": [
      "What is your name? John\n"
     ]
    }
   ],
   "source": [
    "user_name = input('What is your name?')"
   ]
  },
  {
   "cell_type": "code",
   "execution_count": 41,
   "id": "42eeffaa-1088-48bd-94cf-9d7de8658027",
   "metadata": {},
   "outputs": [
    {
     "name": "stdout",
     "output_type": "stream",
     "text": [
      "How you doin John !\n"
     ]
    }
   ],
   "source": [
    "print('How you doin', user_name,f'!')"
   ]
  },
  {
   "cell_type": "code",
   "execution_count": null,
   "id": "8788b554-f601-41ba-8611-5a4f8c1b6b77",
   "metadata": {},
   "outputs": [],
   "source": []
  },
  {
   "cell_type": "code",
   "execution_count": 94,
   "id": "cb7f5ddc-e4e0-4bfb-8f9e-3023238bc015",
   "metadata": {},
   "outputs": [
    {
     "name": "stdin",
     "output_type": "stream",
     "text": [
      "Enter the score's score 79.6\n"
     ]
    }
   ],
   "source": [
    "user_score = input('Enter the score\\'s score')"
   ]
  },
  {
   "cell_type": "code",
   "execution_count": 95,
   "id": "6e86a46a-f237-4aba-89b5-87b063ad63d6",
   "metadata": {},
   "outputs": [],
   "source": [
    "score = float(user_score)"
   ]
  },
  {
   "cell_type": "code",
   "execution_count": 96,
   "id": "1145ce3a-87ce-42f2-be3f-cf71908a279e",
   "metadata": {},
   "outputs": [
    {
     "name": "stdout",
     "output_type": "stream",
     "text": [
      "A\n"
     ]
    }
   ],
   "source": [
    "if 70<=score<=100:\n",
    "    print('A')\n",
    "elif 50<=score<=69:\n",
    "    print('B')\n",
    "elif 35<=score<=49:\n",
    "    print('C')\n",
    "elif 0<=score<=34:\n",
    "    print('Fail')\n",
    "else:\n",
    "    print('invalid score')"
   ]
  },
  {
   "cell_type": "code",
   "execution_count": null,
   "id": "d6d24033-d372-422c-9219-6ab0d2dda299",
   "metadata": {},
   "outputs": [],
   "source": []
  },
  {
   "cell_type": "code",
   "execution_count": null,
   "id": "120bc7bb-0f29-49f9-aed0-f92f0529b200",
   "metadata": {},
   "outputs": [],
   "source": []
  }
 ],
 "metadata": {
  "kernelspec": {
   "display_name": "Python 3 (ipykernel)",
   "language": "python",
   "name": "python3"
  },
  "language_info": {
   "codemirror_mode": {
    "name": "ipython",
    "version": 3
   },
   "file_extension": ".py",
   "mimetype": "text/x-python",
   "name": "python",
   "nbconvert_exporter": "python",
   "pygments_lexer": "ipython3",
   "version": "3.12.3"
  }
 },
 "nbformat": 4,
 "nbformat_minor": 5
}
