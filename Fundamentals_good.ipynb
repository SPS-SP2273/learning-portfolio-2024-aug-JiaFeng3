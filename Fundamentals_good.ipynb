{
 "cells": [
  {
   "cell_type": "code",
   "execution_count": 46,
   "id": "17e7131c-4b15-4769-a940-0cfc10fd468a",
   "metadata": {},
   "outputs": [
    {
     "name": "stdin",
     "output_type": "stream",
     "text": [
      "What is your name? Melvin\n"
     ]
    }
   ],
   "source": [
    "user_name = input('What is your name?')"
   ]
  },
  {
   "cell_type": "code",
   "execution_count": 47,
   "id": "42eeffaa-1088-48bd-94cf-9d7de8658027",
   "metadata": {},
   "outputs": [
    {
     "name": "stdout",
     "output_type": "stream",
     "text": [
      "How you doin Melvin !\n"
     ]
    }
   ],
   "source": [
    "print('How you doin',user_name,'!')"
   ]
  },
  {
   "cell_type": "code",
   "execution_count": null,
   "id": "f41729c3-a13e-417b-8839-c74d6cf7a519",
   "metadata": {},
   "outputs": [],
   "source": []
  },
  {
   "cell_type": "code",
   "execution_count": 41,
   "id": "87ba72f3-acd8-45db-9824-35bae23d309d",
   "metadata": {},
   "outputs": [
    {
     "name": "stdin",
     "output_type": "stream",
     "text": [
      "What is your name? Tim\n"
     ]
    }
   ],
   "source": [
    "user_name = input('What is your name?')"
   ]
  },
  {
   "cell_type": "code",
   "execution_count": 42,
   "id": "f5288444-c745-4434-a777-e777252712ba",
   "metadata": {},
   "outputs": [
    {
     "name": "stdin",
     "output_type": "stream",
     "text": [
      "What is your age? 20\n"
     ]
    }
   ],
   "source": [
    "user_age = input('What is your age?')"
   ]
  },
  {
   "cell_type": "code",
   "execution_count": 43,
   "id": "8788b554-f601-41ba-8611-5a4f8c1b6b77",
   "metadata": {},
   "outputs": [
    {
     "name": "stdout",
     "output_type": "stream",
     "text": [
      "My name is Tim and I am 20 years old.\n"
     ]
    }
   ],
   "source": [
    "print('My name is',user_name, 'and I am',user_age,'years old.')"
   ]
  },
  {
   "cell_type": "code",
   "execution_count": null,
   "id": "87a22055-8a0d-464a-9b5d-ee9ee3af6385",
   "metadata": {},
   "outputs": [],
   "source": []
  },
  {
   "cell_type": "code",
   "execution_count": 61,
   "id": "454898a8-d1e0-4701-980a-71784229510f",
   "metadata": {},
   "outputs": [],
   "source": [
    "pi = 3.141592653589793"
   ]
  },
  {
   "cell_type": "code",
   "execution_count": 64,
   "id": "f4f09fda-7696-4bf1-a0a4-a3dc6c2b7240",
   "metadata": {},
   "outputs": [
    {
     "name": "stdout",
     "output_type": "stream",
     "text": [
      "The value of pi to 2 decimal places is: 3.14\n"
     ]
    }
   ],
   "source": [
    "print(f'The value of pi to 2 decimal places is: {pi:.2f}')"
   ]
  },
  {
   "cell_type": "code",
   "execution_count": 67,
   "id": "f85f818b-521e-4a1a-ab01-9893fd77de88",
   "metadata": {},
   "outputs": [
    {
     "name": "stdout",
     "output_type": "stream",
     "text": [
      "The value of pi to 3 decimal places is: 3.142\n"
     ]
    }
   ],
   "source": [
    "print(f'The value of pi to 3 decimal places is: {pi:.3f}')"
   ]
  },
  {
   "cell_type": "code",
   "execution_count": 68,
   "id": "7220bc8e-eeaf-45c6-bdd2-3a9a4095952c",
   "metadata": {},
   "outputs": [
    {
     "name": "stdout",
     "output_type": "stream",
     "text": [
      "The value of pi to 3 decimal places is: 3.1416\n"
     ]
    }
   ],
   "source": [
    "print(f'The value of pi to 3 decimal places is: {pi:.4f}')"
   ]
  },
  {
   "cell_type": "code",
   "execution_count": null,
   "id": "2919ee99-01d3-4588-921e-469670a0f846",
   "metadata": {},
   "outputs": [],
   "source": []
  },
  {
   "cell_type": "code",
   "execution_count": 88,
   "id": "046d3ee6-bd8d-4e09-a39f-22eeda299c9c",
   "metadata": {},
   "outputs": [
    {
     "name": "stdout",
     "output_type": "stream",
     "text": [
      "Apple\t  $0.99\n",
      "Banana\t  $0.59\n",
      "Orange\t  $1.29\n"
     ]
    }
   ],
   "source": [
    "print('Apple\\t  $0.99\\nBanana\\t  $0.59\\nOrange\\t  $1.29')"
   ]
  },
  {
   "cell_type": "code",
   "execution_count": null,
   "id": "dc1f53ff-1ecc-40a8-888e-bf3d7291f52e",
   "metadata": {},
   "outputs": [],
   "source": []
  },
  {
   "cell_type": "code",
   "execution_count": 94,
   "id": "cb7f5ddc-e4e0-4bfb-8f9e-3023238bc015",
   "metadata": {},
   "outputs": [
    {
     "name": "stdin",
     "output_type": "stream",
     "text": [
      "Enter the score's score 79.6\n"
     ]
    }
   ],
   "source": [
    "user_score = input('Enter the score\\'s score')"
   ]
  },
  {
   "cell_type": "code",
   "execution_count": 95,
   "id": "6e86a46a-f237-4aba-89b5-87b063ad63d6",
   "metadata": {},
   "outputs": [],
   "source": [
    "score = float(user_score)"
   ]
  },
  {
   "cell_type": "code",
   "execution_count": 96,
   "id": "1145ce3a-87ce-42f2-be3f-cf71908a279e",
   "metadata": {},
   "outputs": [
    {
     "name": "stdout",
     "output_type": "stream",
     "text": [
      "A\n"
     ]
    }
   ],
   "source": [
    "if 70<=score<=100:\n",
    "    print('A')\n",
    "elif 50<=score<=69:\n",
    "    print('B')\n",
    "elif 35<=score<=49:\n",
    "    print('C')\n",
    "elif 0<=score<=34:\n",
    "    print('Fail')\n",
    "else:\n",
    "    print('invalid score')"
   ]
  },
  {
   "cell_type": "code",
   "execution_count": null,
   "id": "d6d24033-d372-422c-9219-6ab0d2dda299",
   "metadata": {},
   "outputs": [],
   "source": []
  },
  {
   "cell_type": "code",
   "execution_count": 38,
   "id": "97b68025-2356-49ac-a1b5-2f5a2f73ffae",
   "metadata": {},
   "outputs": [
    {
     "name": "stdout",
     "output_type": "stream",
     "text": [
      "120\n",
      "Invalid input\n"
     ]
    }
   ],
   "source": [
    "def factorial(n):\n",
    "    if n < 0:\n",
    "        return \"Invalid input\"\n",
    "    elif n == 0:\n",
    "        return 1\n",
    "    else:\n",
    "        result = 1\n",
    "        for number in range(1, n+1):\n",
    "            result *= number\n",
    "        return result\n",
    "\n",
    "\n",
    "print(factorial(5))  # Testing, expected output: 120\n",
    "print(factorial(-1))  # Testing, expected output: Invalid input"
   ]
  },
  {
   "cell_type": "code",
   "execution_count": null,
   "id": "dff3328d-3a8b-43be-8ddb-8d3a1064a1e2",
   "metadata": {},
   "outputs": [],
   "source": []
  },
  {
   "cell_type": "code",
   "execution_count": null,
   "id": "7319c1f2-787d-4faf-99ea-052dc0989359",
   "metadata": {},
   "outputs": [],
   "source": []
  }
 ],
 "metadata": {
  "kernelspec": {
   "display_name": "Python 3 (ipykernel)",
   "language": "python",
   "name": "python3"
  },
  "language_info": {
   "codemirror_mode": {
    "name": "ipython",
    "version": 3
   },
   "file_extension": ".py",
   "mimetype": "text/x-python",
   "name": "python",
   "nbconvert_exporter": "python",
   "pygments_lexer": "ipython3",
   "version": "3.12.3"
  }
 },
 "nbformat": 4,
 "nbformat_minor": 5
}
