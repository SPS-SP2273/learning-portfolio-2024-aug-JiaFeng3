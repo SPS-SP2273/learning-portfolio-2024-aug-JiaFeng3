{
 "cells": [
  {
   "cell_type": "code",
   "execution_count": 1,
   "id": "fa75a3bb-dda0-44a8-81bd-7ffac4224a8d",
   "metadata": {},
   "outputs": [
    {
     "name": "stdout",
     "output_type": "stream",
     "text": [
      "Hello World\n",
      "Hello World again\n"
     ]
    }
   ],
   "source": [
    "print('Hello World')\n",
    "print('Hello World again')\n"
   ]
  },
  {
   "cell_type": "code",
   "execution_count": 2,
   "id": "45f69965-e07a-481e-a28a-a953b23ecd23",
   "metadata": {},
   "outputs": [
    {
     "name": "stdout",
     "output_type": "stream",
     "text": [
      "One\n",
      "Three\n"
     ]
    }
   ],
   "source": [
    "# This is a comment\n",
    "print('One')              # This is a comment.\n",
    "# print('Two')            # The interpreter ignores this line.\n",
    "print('Three')            # This is\n",
    "                          # also a way to\n",
    "                          # write comments"
   ]
  },
  {
   "cell_type": "code",
   "execution_count": 7,
   "id": "7484f4fb-f507-4b1d-b102-62fdce44118b",
   "metadata": {},
   "outputs": [
    {
     "data": {
      "text/plain": [
       "40.5"
      ]
     },
     "execution_count": 7,
     "metadata": {},
     "output_type": "execute_result"
    }
   ],
   "source": [
    "1 * ((2 - 3) + 4) ** 5 / 6\n"
   ]
  },
  {
   "cell_type": "code",
   "execution_count": 10,
   "id": "207283f6-151c-4138-9f47-2e494d6fcabe",
   "metadata": {},
   "outputs": [
    {
     "data": {
      "text/plain": [
       "2.0"
      ]
     },
     "execution_count": 10,
     "metadata": {},
     "output_type": "execute_result"
    }
   ],
   "source": [
    "math.sqrt(4)\n"
   ]
  },
  {
   "cell_type": "code",
   "execution_count": 11,
   "id": "c34318c8-5c20-49ec-b21c-79c5e6cb8db1",
   "metadata": {},
   "outputs": [
    {
     "data": {
      "text/plain": [
       "4.0"
      ]
     },
     "execution_count": 11,
     "metadata": {},
     "output_type": "execute_result"
    }
   ],
   "source": [
    "math.sqrt(16)"
   ]
  },
  {
   "cell_type": "code",
   "execution_count": 12,
   "id": "fa2035fc-06eb-45a7-98a8-3ef0f322f1a4",
   "metadata": {},
   "outputs": [],
   "source": [
    "import numpy as np    # Importing Numpy and giving \n",
    "                      # it an alias np \n",
    "                      # because I am lazy"
   ]
  },
  {
   "cell_type": "code",
   "execution_count": 21,
   "id": "a6b7d68a-0c2d-44bc-aebc-0d6c4cd48eaf",
   "metadata": {},
   "outputs": [
    {
     "name": "stdout",
     "output_type": "stream",
     "text": [
      "3 4 4.69041575982343\n"
     ]
    }
   ],
   "source": [
    "x, y = 3, 4\n",
    "z = math.sqrt(x*2 + y**2)\n",
    "print(x, y, z)"
   ]
  },
  {
   "cell_type": "code",
   "execution_count": 22,
   "id": "578b29af-1bae-477e-bba6-3aeb0f8a5097",
   "metadata": {},
   "outputs": [
    {
     "data": {
      "text/plain": [
       "2.5"
      ]
     },
     "execution_count": 22,
     "metadata": {},
     "output_type": "execute_result"
    }
   ],
   "source": [
    "5/2           # The output is the exact answer for division"
   ]
  },
  {
   "cell_type": "code",
   "execution_count": 23,
   "id": "d38cc961-1915-4f2b-9005-26799db90bc6",
   "metadata": {},
   "outputs": [
    {
     "data": {
      "text/plain": [
       "2"
      ]
     },
     "execution_count": 23,
     "metadata": {},
     "output_type": "execute_result"
    }
   ],
   "source": [
    "5//2          # The output is the quotient of division"
   ]
  },
  {
   "cell_type": "code",
   "execution_count": 30,
   "id": "21c51554-0d3b-4783-964e-7eab945a7b1c",
   "metadata": {},
   "outputs": [
    {
     "data": {
      "text/plain": [
       "1"
      ]
     },
     "execution_count": 30,
     "metadata": {},
     "output_type": "execute_result"
    }
   ],
   "source": [
    "5%2           # The output is the remainder after division"
   ]
  },
  {
   "cell_type": "code",
   "execution_count": 31,
   "id": "068c3e03-9899-4c61-b9b3-77581872f957",
   "metadata": {},
   "outputs": [],
   "source": [
    "fruits = ['apple', 'banana', 'pineapple', 'jackfruit']\n",
    "vegetables = ['celery', 'potato', 'broccoli', 'kale']\n"
   ]
  },
  {
   "cell_type": "code",
   "execution_count": 32,
   "id": "a4c854ed-ad51-4d56-b31b-21cbe83eb478",
   "metadata": {},
   "outputs": [
    {
     "data": {
      "text/plain": [
       "True"
      ]
     },
     "execution_count": 32,
     "metadata": {},
     "output_type": "execute_result"
    }
   ],
   "source": [
    "'apple' in fruits"
   ]
  },
  {
   "cell_type": "code",
   "execution_count": 40,
   "id": "9b0933b8-f49d-43c3-9fa3-6b5ebf2b11e0",
   "metadata": {},
   "outputs": [
    {
     "name": "stdout",
     "output_type": "stream",
     "text": [
      "Hello Batman!\n"
     ]
    }
   ],
   "source": [
    "name = \"Batman\"\n",
    "print(f\"Hello {name}!\")\n"
   ]
  },
  {
   "cell_type": "code",
   "execution_count": null,
   "id": "3c7478ae-a37c-48c3-8266-85be4f772c37",
   "metadata": {},
   "outputs": [],
   "source": []
  }
 ],
 "metadata": {
  "kernelspec": {
   "display_name": "Python 3 (ipykernel)",
   "language": "python",
   "name": "python3"
  },
  "language_info": {
   "codemirror_mode": {
    "name": "ipython",
    "version": 3
   },
   "file_extension": ".py",
   "mimetype": "text/x-python",
   "name": "python",
   "nbconvert_exporter": "python",
   "pygments_lexer": "ipython3",
   "version": "3.12.3"
  }
 },
 "nbformat": 4,
 "nbformat_minor": 5
}
