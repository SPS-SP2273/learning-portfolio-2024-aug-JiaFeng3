{
 "cells": [
  {
   "cell_type": "code",
   "execution_count": 27,
   "id": "0fff5658-5f68-4508-966b-ce5315f219ec",
   "metadata": {},
   "outputs": [],
   "source": [
    "temperatures_celsius = [\n",
    "    0, 5, 10, 15, 20, 25,\n",
    "    30, 35, 40, 45, 50\n",
    "]"
   ]
  },
  {
   "cell_type": "code",
   "execution_count": 31,
   "id": "a0e7fd4c-47e6-49ca-933b-edee304fbc01",
   "metadata": {},
   "outputs": [],
   "source": [
    "import numpy as np"
   ]
  },
  {
   "cell_type": "code",
   "execution_count": 33,
   "id": "eda2f156-7bc3-4556-a6dc-c971f4a2be04",
   "metadata": {},
   "outputs": [],
   "source": [
    "np_array = np.array(temperatures_celsius)"
   ]
  },
  {
   "cell_type": "code",
   "execution_count": 36,
   "id": "76c1ae8e-6bfb-4402-8593-cd723c625f77",
   "metadata": {},
   "outputs": [],
   "source": [
    "np_temperatures = (np_array*1.8)+ 32"
   ]
  },
  {
   "cell_type": "code",
   "execution_count": 38,
   "id": "7e14010f-2077-4d59-a6df-88a62c55644c",
   "metadata": {},
   "outputs": [],
   "source": [
    "py_temperatures = np_temperatures.tolist()"
   ]
  },
  {
   "cell_type": "code",
   "execution_count": 51,
   "id": "477560a4-8054-4fc5-8511-8f2ad298a50e",
   "metadata": {},
   "outputs": [
    {
     "name": "stdout",
     "output_type": "stream",
     "text": [
      "0,32.0\n",
      "5,41.0\n",
      "10,50.0\n",
      "15,59.0\n",
      "20,68.0\n",
      "25,77.0\n",
      "30,86.0\n",
      "35,95.0\n",
      "40,104.0\n",
      "45,113.0\n",
      "50,122.0\n"
     ]
    }
   ],
   "source": [
    "for index, temperature in enumerate(temperatures_celsius):\n",
    "    print(f'{temperature},{py_temperatures[index]}')\n"
   ]
  },
  {
   "cell_type": "code",
   "execution_count": null,
   "id": "5cabb561-c613-4499-ade5-aa27c6c18d35",
   "metadata": {},
   "outputs": [],
   "source": []
  },
  {
   "cell_type": "code",
   "execution_count": 59,
   "id": "09c5c56b-d6f7-4ff9-980e-f042d3126551",
   "metadata": {},
   "outputs": [
    {
     "name": "stdout",
     "output_type": "stream",
     "text": [
      "A1\tA2\tA3\t\n",
      "\n",
      "B1\tB2\tB3\t\n",
      "\n",
      "C1\tC2\tC3\t\n",
      "\n"
     ]
    }
   ],
   "source": [
    "for letter in ['A', 'B', 'C']:\n",
    "    for number in [1, 2, 3]:\n",
    "        print(f'{letter}{number}',end='\\t')\n",
    "    print('\\n')"
   ]
  },
  {
   "cell_type": "code",
   "execution_count": 97,
   "id": "40cd6a0d-19a1-4989-a5fe-db9d07e1fa0b",
   "metadata": {},
   "outputs": [
    {
     "name": "stdout",
     "output_type": "stream",
     "text": [
      "1 :\t1\t2\t3\t4\t5\t\n",
      "\n",
      "2 :\t2\t4\t6\t8\t10\t\n",
      "\n",
      "3 :\t3\t6\t9\t12\t15\t\n",
      "\n",
      "4 :\t4\t8\t12\t16\t20\t\n",
      "\n",
      "5 :\t5\t10\t15\t20\t25\t\n",
      "\n"
     ]
    }
   ],
   "source": [
    "for number in [1,2,3,4,5]:\n",
    "    print(number,':',end='\\t')\n",
    "    for num in [1,2,3,4,5]:\n",
    "        num = num*number\n",
    "        print(num,end='\\t')\n",
    "    print('\\n')"
   ]
  },
  {
   "cell_type": "code",
   "execution_count": null,
   "id": "a40d28b2-3bfb-46eb-ac1f-49b1220430b6",
   "metadata": {},
   "outputs": [],
   "source": []
  },
  {
   "cell_type": "code",
   "execution_count": 156,
   "id": "c362aa34-fd35-4213-beac-e395cda0a009",
   "metadata": {},
   "outputs": [],
   "source": [
    "n = 1"
   ]
  },
  {
   "cell_type": "code",
   "execution_count": 157,
   "id": "a74c6063-21aa-48d3-a590-5ca4668ba4a4",
   "metadata": {},
   "outputs": [
    {
     "name": "stdout",
     "output_type": "stream",
     "text": [
      "Experiment 1 : No. of Heads = 7\n",
      "Experiment 2 : No. of Heads = 1\n",
      "Experiment 3 : No. of Heads = 6\n",
      "Experiment 4 : No. of Heads = 5\n",
      "Experiment 5 : No. of Heads = 2\n",
      "Experiment 6 : No. of Heads = 7\n",
      "Experiment 7 : No. of Heads = 7\n",
      "Experiment 8 : No. of Heads = 5\n",
      "Experiment 9 : No. of Heads = 5\n",
      "Experiment 10 : No. of Heads = 3\n"
     ]
    }
   ],
   "source": [
    "while n <= 10:\n",
    "    np.random.rand(10)\n",
    "    np_head = np.random.rand(10)\n",
    "    print('Experiment',n,':','No. of Heads =', len(np_head[np_head>0.5]))\n",
    "    n += 1"
   ]
  },
  {
   "cell_type": "code",
   "execution_count": null,
   "id": "92c52b97-a976-4cb5-83c2-e923600d20b5",
   "metadata": {},
   "outputs": [],
   "source": []
  }
 ],
 "metadata": {
  "kernelspec": {
   "display_name": "Python 3 (ipykernel)",
   "language": "python",
   "name": "python3"
  },
  "language_info": {
   "codemirror_mode": {
    "name": "ipython",
    "version": 3
   },
   "file_extension": ".py",
   "mimetype": "text/x-python",
   "name": "python",
   "nbconvert_exporter": "python",
   "pygments_lexer": "ipython3",
   "version": "3.12.3"
  }
 },
 "nbformat": 4,
 "nbformat_minor": 5
}
