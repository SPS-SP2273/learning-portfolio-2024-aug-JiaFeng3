{
 "cells": [
  {
   "cell_type": "code",
   "execution_count": 17,
   "id": "0fff5658-5f68-4508-966b-ce5315f219ec",
   "metadata": {},
   "outputs": [],
   "source": [
    "temperatures_celsius = [\n",
    "    0, 5, 10, 15, 20, 25,\n",
    "    30, 35, 40, 45, 50\n",
    "]"
   ]
  },
  {
   "cell_type": "code",
   "execution_count": 42,
   "id": "940ab2e0-0fc5-46a2-b948-d044df69f769",
   "metadata": {},
   "outputs": [
    {
     "name": "stdout",
     "output_type": "stream",
     "text": [
      "0°C,32.0°F\n",
      "5°C,41.0°F\n",
      "10°C,50.0°F\n",
      "15°C,59.0°F\n",
      "20°C,68.0°F\n",
      "25°C,77.0°F\n",
      "30°C,86.0°F\n",
      "35°C,95.0°F\n",
      "40°C,104.0°F\n",
      "45°C,113.0°F\n",
      "50°C,122.0°F\n"
     ]
    }
   ],
   "source": [
    "for tem in temperatures_celsius:\n",
    "    print(f'{tem}\\xb0C,{tem*1.8 +32}\\xb0F')"
   ]
  },
  {
   "cell_type": "code",
   "execution_count": null,
   "id": "d570287b-394d-4139-a864-4306f25a8394",
   "metadata": {},
   "outputs": [],
   "source": []
  },
  {
   "cell_type": "code",
   "execution_count": 59,
   "id": "09c5c56b-d6f7-4ff9-980e-f042d3126551",
   "metadata": {},
   "outputs": [
    {
     "name": "stdout",
     "output_type": "stream",
     "text": [
      "A1\tA2\tA3\t\n",
      "\n",
      "B1\tB2\tB3\t\n",
      "\n",
      "C1\tC2\tC3\t\n",
      "\n"
     ]
    }
   ],
   "source": [
    "for letter in ['A', 'B', 'C']:\n",
    "    for number in [1, 2, 3]:\n",
    "        print(f'{letter}{number}',end='\\t')\n",
    "    print('\\n')"
   ]
  },
  {
   "cell_type": "code",
   "execution_count": 46,
   "id": "40cd6a0d-19a1-4989-a5fe-db9d07e1fa0b",
   "metadata": {},
   "outputs": [
    {
     "name": "stdout",
     "output_type": "stream",
     "text": [
      "1:\n",
      "1\t2\t3\t4\t5\t\n",
      "\n",
      "2:\n",
      "2\t4\t6\t8\t10\t\n",
      "\n",
      "3:\n",
      "3\t6\t9\t12\t15\t\n",
      "\n",
      "4:\n",
      "4\t8\t12\t16\t20\t\n",
      "\n",
      "5:\n",
      "5\t10\t15\t20\t25\t\n",
      "\n"
     ]
    }
   ],
   "source": [
    "for number in [1,2,3,4,5]:\n",
    "    print(number,':',sep='')\n",
    "    for num in [1,2,3,4,5]:\n",
    "        num = num*number\n",
    "        print(num,end='\\t')\n",
    "    print('\\n')"
   ]
  },
  {
   "cell_type": "code",
   "execution_count": null,
   "id": "ace8e544-301b-4862-ad2d-2e9ae800b489",
   "metadata": {},
   "outputs": [],
   "source": []
  },
  {
   "cell_type": "code",
   "execution_count": 156,
   "id": "c362aa34-fd35-4213-beac-e395cda0a009",
   "metadata": {},
   "outputs": [],
   "source": [
    "n = 1"
   ]
  },
  {
   "cell_type": "code",
   "execution_count": 157,
   "id": "a74c6063-21aa-48d3-a590-5ca4668ba4a4",
   "metadata": {},
   "outputs": [
    {
     "name": "stdout",
     "output_type": "stream",
     "text": [
      "Experiment 1 : No. of Heads = 7\n",
      "Experiment 2 : No. of Heads = 1\n",
      "Experiment 3 : No. of Heads = 6\n",
      "Experiment 4 : No. of Heads = 5\n",
      "Experiment 5 : No. of Heads = 2\n",
      "Experiment 6 : No. of Heads = 7\n",
      "Experiment 7 : No. of Heads = 7\n",
      "Experiment 8 : No. of Heads = 5\n",
      "Experiment 9 : No. of Heads = 5\n",
      "Experiment 10 : No. of Heads = 3\n"
     ]
    }
   ],
   "source": [
    "while n <= 10:\n",
    "    np.random.rand(10)\n",
    "    np_head = np.random.rand(10)\n",
    "    print('Experiment',n,':','No. of Heads =', len(np_head[np_head>0.5]))\n",
    "    n += 1"
   ]
  },
  {
   "cell_type": "code",
   "execution_count": null,
   "id": "92c52b97-a976-4cb5-83c2-e923600d20b5",
   "metadata": {},
   "outputs": [],
   "source": []
  }
 ],
 "metadata": {
  "kernelspec": {
   "display_name": "Python 3 (ipykernel)",
   "language": "python",
   "name": "python3"
  },
  "language_info": {
   "codemirror_mode": {
    "name": "ipython",
    "version": 3
   },
   "file_extension": ".py",
   "mimetype": "text/x-python",
   "name": "python",
   "nbconvert_exporter": "python",
   "pygments_lexer": "ipython3",
   "version": "3.12.3"
  }
 },
 "nbformat": 4,
 "nbformat_minor": 5
}
