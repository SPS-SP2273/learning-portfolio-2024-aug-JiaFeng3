{
 "cells": [
  {
   "cell_type": "code",
   "execution_count": 2,
   "id": "33265bc6-f7aa-4937-b7d0-c41297efbdf1",
   "metadata": {},
   "outputs": [
    {
     "name": "stdout",
     "output_type": "stream",
     "text": [
      "[1, 9, 25, 49, 81]\n"
     ]
    }
   ],
   "source": [
    "square = []\n",
    "for odd in range(10):\n",
    "    if odd%2 == 0:\n",
    "        continue\n",
    "    odd = odd**2\n",
    "    square.append(odd)\n",
    "print(square)"
   ]
  },
  {
   "cell_type": "code",
   "execution_count": 3,
   "id": "800e8890-b490-4d37-8dc8-8d17fbeb37eb",
   "metadata": {},
   "outputs": [
    {
     "data": {
      "text/plain": [
       "[1, 9, 25, 49, 81]"
      ]
     },
     "execution_count": 3,
     "metadata": {},
     "output_type": "execute_result"
    }
   ],
   "source": [
    "[number**2 for number in range(10) if number % 2 ==1]"
   ]
  },
  {
   "cell_type": "code",
   "execution_count": 4,
   "id": "27645991-24e7-4bc8-99da-a733ab85b34d",
   "metadata": {},
   "outputs": [
    {
     "name": "stdout",
     "output_type": "stream",
     "text": [
      "2.06 μs ± 459 ns per loop (mean ± std. dev. of 7 runs, 100,000 loops each)\n"
     ]
    }
   ],
   "source": [
    "%%timeit\n",
    "square = []\n",
    "for odd in range(10):\n",
    "    if odd%2 == 0:\n",
    "        continue\n",
    "    odd = odd**2\n",
    "    square.append(odd)"
   ]
  },
  {
   "cell_type": "code",
   "execution_count": 6,
   "id": "faf10b4e-77af-4ca0-9d28-d7237563d308",
   "metadata": {},
   "outputs": [
    {
     "name": "stdout",
     "output_type": "stream",
     "text": [
      "1.8 μs ± 235 ns per loop (mean ± std. dev. of 7 runs, 100,000 loops each)\n"
     ]
    }
   ],
   "source": [
    "%%timeit\n",
    "[number**2 for number in range(10) if number % 2 ==1]"
   ]
  },
  {
   "cell_type": "markdown",
   "id": "22228514-66ff-4b15-a4b9-6b945abf15d9",
   "metadata": {},
   "source": [
    "The second one which is list comprehension is faster.It might be because the code for the list comprehension is much shorter"
   ]
  },
  {
   "cell_type": "code",
   "execution_count": 7,
   "id": "173933d6-671b-48ef-8495-e330d1085835",
   "metadata": {},
   "outputs": [
    {
     "name": "stdout",
     "output_type": "stream",
     "text": [
      "14 years\n"
     ]
    }
   ],
   "source": [
    "time = []\n",
    "n = 100\n",
    "while True:\n",
    "    if n <= 50:\n",
    "        break\n",
    "    n=n*0.95\n",
    "    time.append(n)\n",
    "print(len(time),'years')"
   ]
  },
  {
   "cell_type": "code",
   "execution_count": null,
   "id": "74f0fadb-2da6-4c3f-bb77-1a48c59a16cf",
   "metadata": {},
   "outputs": [],
   "source": []
  },
  {
   "cell_type": "code",
   "execution_count": 8,
   "id": "c13ed708-b4b5-48ef-9535-be39d462e9ef",
   "metadata": {},
   "outputs": [],
   "source": [
    "co2_data = [\n",
    "    (2000, 369.55), (2001, 371.14), (2002, 373.28), \n",
    "    (2003, 375.80), (2004, 377.52), (2005, 379.80), \n",
    "    (2006, 381.90), (2007, 383.79), (2008, 385.60), \n",
    "    (2009, 387.43), (2010, 389.90), (2011, 391.65), \n",
    "    (2012, 393.85), (2013, 396.52), (2014, 398.65),\n",
    "    (2015, 400.83), (2016, 404.24), (2017, 406.55), \n",
    "    (2018, 408.52), (2019, 411.44), (2020, 414.24)\n",
    "]"
   ]
  },
  {
   "cell_type": "code",
   "execution_count": 25,
   "id": "c321fe8b-cba6-4437-beed-5d1bfa580809",
   "metadata": {},
   "outputs": [
    {
     "ename": "KeyboardInterrupt",
     "evalue": "",
     "output_type": "error",
     "traceback": [
      "\u001b[1;31m---------------------------------------------------------------------------\u001b[0m",
      "\u001b[1;31mKeyboardInterrupt\u001b[0m                         Traceback (most recent call last)",
      "Cell \u001b[1;32mIn[25], line 6\u001b[0m\n\u001b[0;32m      4\u001b[0m     \u001b[38;5;28;01mbreak\u001b[39;00m\n\u001b[0;32m      5\u001b[0m \u001b[38;5;28;01mif\u001b[39;00m \u001b[38;5;28mint\u001b[39m(co2_data[r\u001b[38;5;241m+\u001b[39m\u001b[38;5;241m1\u001b[39m][\u001b[38;5;241m1\u001b[39m]\u001b[38;5;241m-\u001b[39mco2_data[r][\u001b[38;5;241m1\u001b[39m])\u001b[38;5;241m<\u001b[39m\u001b[38;5;241m3\u001b[39m:\n\u001b[1;32m----> 6\u001b[0m     \u001b[38;5;28;01mcontinue\u001b[39;00m\n\u001b[0;32m      7\u001b[0m \u001b[38;5;28mprint\u001b[39m(co2_data[r])\n\u001b[0;32m      8\u001b[0m r \u001b[38;5;241m=\u001b[39m r\u001b[38;5;241m+\u001b[39m\u001b[38;5;241m1\u001b[39m    \n",
      "\u001b[1;31mKeyboardInterrupt\u001b[0m: "
     ]
    }
   ],
   "source": [
    "r = 0\n",
    "while True:\n",
    "    if r==21:\n",
    "        break\n",
    "    if int(co2_data[r+1][1]-co2_data[r][1])<3:\n",
    "        continue\n",
    "    print(co2_data[r])\n",
    "    r = r+1    "
   ]
  },
  {
   "cell_type": "code",
   "execution_count": 16,
   "id": "2074ff7b-d5fb-43fe-9112-cb7b640d07d7",
   "metadata": {},
   "outputs": [
    {
     "data": {
      "text/plain": [
       "2000"
      ]
     },
     "execution_count": 16,
     "metadata": {},
     "output_type": "execute_result"
    }
   ],
   "source": [
    "\n",
    "co2_data[0][0]"
   ]
  },
  {
   "cell_type": "code",
   "execution_count": 20,
   "id": "2716b709-5e48-4715-b11d-e1c854b41dc5",
   "metadata": {},
   "outputs": [
    {
     "data": {
      "text/plain": [
       "1.589999999999975"
      ]
     },
     "execution_count": 20,
     "metadata": {},
     "output_type": "execute_result"
    }
   ],
   "source": [
    "co2_data[0+1][1]-co2_data[0][1]"
   ]
  },
  {
   "cell_type": "code",
   "execution_count": null,
   "id": "746360bb-253c-4f57-9b5d-292e51940ed1",
   "metadata": {},
   "outputs": [],
   "source": []
  }
 ],
 "metadata": {
  "kernelspec": {
   "display_name": "Python 3 (ipykernel)",
   "language": "python",
   "name": "python3"
  },
  "language_info": {
   "codemirror_mode": {
    "name": "ipython",
    "version": 3
   },
   "file_extension": ".py",
   "mimetype": "text/x-python",
   "name": "python",
   "nbconvert_exporter": "python",
   "pygments_lexer": "ipython3",
   "version": "3.12.3"
  }
 },
 "nbformat": 4,
 "nbformat_minor": 5
}
