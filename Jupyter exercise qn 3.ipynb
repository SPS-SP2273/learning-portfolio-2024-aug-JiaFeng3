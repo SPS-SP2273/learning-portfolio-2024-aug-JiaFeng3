{
 "cells": [
  {
   "cell_type": "markdown",
   "id": "47729fca-4c0c-48e0-853e-cf0fa3346b9d",
   "metadata": {},
   "source": [
    "$$\n",
    "\\mu = \\dfrac{1}{n} \\sum_{i=1}^{n} x_i\n",
    "$$"
   ]
  },
  {
   "cell_type": "markdown",
   "id": "268b58d4-cb10-4916-9078-f333de5f0725",
   "metadata": {},
   "source": [
    "$$\n",
    "\\sigma = \\sqrt{\\dfrac{1}{n} \\sum_{i=1}^{n} (x_i - \\mu)^2}\n",
    "$$"
   ]
  },
  {
   "cell_type": "markdown",
   "id": "cf5957dd-8b7c-4340-81ca-40643f6a2b37",
   "metadata": {},
   "source": [
    "$$\n",
    "r = \\dfrac{\\sum_{i=1}^{n} (x_i - \\mu_X)(y_i - \\mu_Y)}{\\sqrt{\\sum_{i=1}^{n}(x_i - \\mu_X)^2 \\sum_{i=1}^{n}(y_i - \\mu_Y)^2}}\n",
    "$$"
   ]
  }
 ],
 "metadata": {
  "kernelspec": {
   "display_name": "Python 3 (ipykernel)",
   "language": "python",
   "name": "python3"
  },
  "language_info": {
   "codemirror_mode": {
    "name": "ipython",
    "version": 3
   },
   "file_extension": ".py",
   "mimetype": "text/x-python",
   "name": "python",
   "nbconvert_exporter": "python",
   "pygments_lexer": "ipython3",
   "version": "3.12.3"
  }
 },
 "nbformat": 4,
 "nbformat_minor": 5
}
