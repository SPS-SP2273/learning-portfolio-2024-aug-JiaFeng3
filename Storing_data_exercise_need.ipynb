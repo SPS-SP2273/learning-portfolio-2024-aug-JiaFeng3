{
 "cells": [
  {
   "cell_type": "code",
   "execution_count": 1,
   "id": "5b8cd595-c1b4-4127-8465-060545a44b77",
   "metadata": {},
   "outputs": [],
   "source": [
    "superhero_info = {\n",
    "    \"Natasha Romanoff\": \"Black Widow\",\n",
    "    \"Tony Stark\": \"Iron Man\",\n",
    "    \"Stephen Strange\": \"Doctor Strange\"\n",
    "}                  "
   ]
  },
  {
   "cell_type": "code",
   "execution_count": 4,
   "id": "3447dabd-40b8-49eb-a267-b7a404770d4e",
   "metadata": {},
   "outputs": [
    {
     "name": "stdout",
     "output_type": "stream",
     "text": [
      "Black Widow\n"
     ]
    }
   ],
   "source": [
    "print(superhero_info[\"Natasha Romanoff\"])"
   ]
  },
  {
   "cell_type": "code",
   "execution_count": 46,
   "id": "0b75ecd9-96c7-494f-a063-c1f2226980a8",
   "metadata": {},
   "outputs": [],
   "source": [
    "import numpy as np"
   ]
  },
  {
   "cell_type": "code",
   "execution_count": 7,
   "id": "c67f954e-4d73-465e-bb37-3b69bc7cacf8",
   "metadata": {},
   "outputs": [],
   "source": [
    "py_list_2d = [[1, \"A\"], [2, \"B\"], [3, \"C\"], [4, \"D\"],\n",
    "              [5, \"E\"], [6, \"F\"], [7, \"G\"], [8, \"H\"],\n",
    "              [9, \"I\"], [10, \"J\"]]\n",
    "\n",
    "np_array_2d = np.array(py_list_2d)      # Reusing the Python list \n",
    "                                        # to create a NEW\n",
    "                                        # NumPy array"
   ]
  },
  {
   "cell_type": "code",
   "execution_count": 9,
   "id": "657f2d64-79bf-404c-a63a-d461bfa7e889",
   "metadata": {},
   "outputs": [
    {
     "data": {
      "text/plain": [
       "10"
      ]
     },
     "execution_count": 9,
     "metadata": {},
     "output_type": "execute_result"
    }
   ],
   "source": [
    "len(py_list_2d)"
   ]
  },
  {
   "cell_type": "code",
   "execution_count": 16,
   "id": "745a2827-c9fe-4ce7-b280-10de9b7a1808",
   "metadata": {},
   "outputs": [],
   "source": [
    "py_list = [1, 2, 3, 4, 5]\n",
    "np_array = np.array(py_list)         "
   ]
  },
  {
   "cell_type": "code",
   "execution_count": 22,
   "id": "a19cae26-9ad0-44bb-b769-ca10c5732481",
   "metadata": {},
   "outputs": [
    {
     "data": {
      "text/plain": [
       "False"
      ]
     },
     "execution_count": 22,
     "metadata": {},
     "output_type": "execute_result"
    }
   ],
   "source": [
    "py_list == 0"
   ]
  },
  {
   "cell_type": "code",
   "execution_count": 31,
   "id": "a4d04b2d-564c-4aae-b006-a3b376e6d5ac",
   "metadata": {},
   "outputs": [
    {
     "name": "stdout",
     "output_type": "stream",
     "text": [
      "a1\n",
      "c3\n",
      "e5\n",
      "g7\n",
      "i9\n"
     ]
    }
   ],
   "source": [
    "py_list = [\"a1\", \"b2\", \"c3\", \"d4\", \"e5\", \"f6\", \"g7\", \"h8\", \"i9\", \"j10\"]\n",
    "print(py_list[0])   # Prints 'a1'\n",
    "print(py_list[2])   # Prints 'c3'\n",
    "print(py_list[4])   # Prints 'e5'\n",
    "print(py_list[6])   # Prints 'g7'\n",
    "print(py_list[8])   # Prints 'i9'"
   ]
  },
  {
   "cell_type": "code",
   "execution_count": null,
   "id": "c17b795e-6da1-40a2-996f-46ff8d8fe9c8",
   "metadata": {},
   "outputs": [],
   "source": []
  },
  {
   "cell_type": "code",
   "execution_count": 32,
   "id": "0606203f-c061-4310-a575-dfa8192d7c2a",
   "metadata": {},
   "outputs": [],
   "source": [
    "elements = ['Hydrogen',\n",
    "            'Helium', 'Lithium',\n",
    "            'Beryllium', 'Boron', 'Carbon',\n",
    "            'Nitrogen', 'Oxygen',\n",
    "            'Fluorine',\n",
    "            'Neon']"
   ]
  },
  {
   "cell_type": "code",
   "execution_count": 33,
   "id": "637f506c-3ca3-4ed9-aa75-ed301d7144e5",
   "metadata": {},
   "outputs": [
    {
     "name": "stdout",
     "output_type": "stream",
     "text": [
      "Boron\n"
     ]
    }
   ],
   "source": [
    "print(elements[4])"
   ]
  },
  {
   "cell_type": "code",
   "execution_count": 35,
   "id": "effc1c55-cae9-48d0-854d-b9ab4596a304",
   "metadata": {},
   "outputs": [
    {
     "name": "stdout",
     "output_type": "stream",
     "text": [
      "Boron\n"
     ]
    }
   ],
   "source": [
    "print(elements[-6])"
   ]
  },
  {
   "cell_type": "code",
   "execution_count": null,
   "id": "5060814f-e5b1-4c16-80c7-999f35a69395",
   "metadata": {},
   "outputs": [],
   "source": []
  },
  {
   "cell_type": "code",
   "execution_count": 3,
   "id": "a68e4231-ba55-4b0f-8973-f920a54e59de",
   "metadata": {},
   "outputs": [],
   "source": [
    "numbers=[45, 60, 1, 30, 96, 1, 96, 57, 16, 1,\n",
    "        99, 62, 86, 43, 42, 60, 59, 1, 1, 35,\n",
    "        83, 47, 34, 28, 68, 23, 22, 92, 1, 79,\n",
    "        1, 29, 94, 72, 46, 47, 1, 74, 32, 20,\n",
    "        8, 37, 35, 1, 89, 29, 86, 19, 43, 61]                  "
   ]
  },
  {
   "cell_type": "code",
   "execution_count": 4,
   "id": "cbaa7f43-d175-46eb-b79c-b64a1ef59bc7",
   "metadata": {},
   "outputs": [],
   "source": [
    "np_array = np.array(numbers)"
   ]
  },
  {
   "cell_type": "code",
   "execution_count": 5,
   "id": "76e45ebe-73a8-4e2c-9576-e9fdc2d2d078",
   "metadata": {},
   "outputs": [],
   "source": [
    "np_new = (np_array == 1)"
   ]
  },
  {
   "cell_type": "code",
   "execution_count": 6,
   "id": "00433522-3497-4afc-8165-2a60d56c95cc",
   "metadata": {},
   "outputs": [],
   "source": [
    "np_new[np_new == False]= 0"
   ]
  },
  {
   "cell_type": "code",
   "execution_count": 7,
   "id": "3662929c-f0e5-4693-bdc5-9c625b8119e4",
   "metadata": {},
   "outputs": [],
   "source": [
    "np_new[np_new == True]= 1"
   ]
  },
  {
   "cell_type": "code",
   "execution_count": 8,
   "id": "927b24a8-8bbe-4484-be8d-d8b071360fb8",
   "metadata": {},
   "outputs": [
    {
     "data": {
      "text/plain": [
       "np.int64(9)"
      ]
     },
     "execution_count": 8,
     "metadata": {},
     "output_type": "execute_result"
    }
   ],
   "source": [
    "np_new.sum()"
   ]
  },
  {
   "cell_type": "code",
   "execution_count": null,
   "id": "83ae2bd0-68f4-4222-984c-55050e512149",
   "metadata": {},
   "outputs": [],
   "source": []
  },
  {
   "cell_type": "code",
   "execution_count": 9,
   "id": "97fd6fd3-7188-4638-bd8a-936da11a49d6",
   "metadata": {},
   "outputs": [],
   "source": [
    "x_1 = [1, 4, 9, 16, 25, 36, 49, 64, 81, 100]\n",
    "x_2 = [1, 8, 27, 64, 125, 216, 343, 512, 729, 1000]"
   ]
  },
  {
   "cell_type": "code",
   "execution_count": 10,
   "id": "dc531711-3dc1-423e-a9b9-76c3063a4d79",
   "metadata": {},
   "outputs": [],
   "source": [
    "np_x_1 = np.array(x_1)\n",
    "np_x_2 = np.array(x_2)"
   ]
  },
  {
   "cell_type": "code",
   "execution_count": 17,
   "id": "20aef81c-af8c-4123-b495-9aa46971253a",
   "metadata": {},
   "outputs": [
    {
     "data": {
      "text/plain": [
       "np.float64(38.5)"
      ]
     },
     "execution_count": 17,
     "metadata": {},
     "output_type": "execute_result"
    }
   ],
   "source": [
    "np_x_1.mean()"
   ]
  },
  {
   "cell_type": "code",
   "execution_count": 18,
   "id": "e1902539-4a4a-4243-953f-620224270db5",
   "metadata": {},
   "outputs": [
    {
     "data": {
      "text/plain": [
       "np.float64(302.5)"
      ]
     },
     "execution_count": 18,
     "metadata": {},
     "output_type": "execute_result"
    }
   ],
   "source": [
    "np_x_2.mean()"
   ]
  },
  {
   "cell_type": "code",
   "execution_count": 19,
   "id": "8e1e0656-d5de-4314-a2a0-d39cdb94305f",
   "metadata": {},
   "outputs": [
    {
     "data": {
      "text/plain": [
       "np.float64(32.41990129534635)"
      ]
     },
     "execution_count": 19,
     "metadata": {},
     "output_type": "execute_result"
    }
   ],
   "source": [
    "np_x_1.std()"
   ]
  },
  {
   "cell_type": "code",
   "execution_count": 20,
   "id": "5abe1326-abfb-4c05-b871-59295903e9b1",
   "metadata": {},
   "outputs": [
    {
     "data": {
      "text/plain": [
       "np.float64(326.0893282522444)"
      ]
     },
     "execution_count": 20,
     "metadata": {},
     "output_type": "execute_result"
    }
   ],
   "source": [
    "np_x_2.std()"
   ]
  },
  {
   "cell_type": "code",
   "execution_count": 36,
   "id": "deb13770-b72d-4b94-8a1a-d02bd24096a0",
   "metadata": {},
   "outputs": [],
   "source": [
    "mean1 = np_x_1.mean()"
   ]
  },
  {
   "cell_type": "code",
   "execution_count": 37,
   "id": "f9fc404a-d72d-4a4c-83a7-8d8168599f3f",
   "metadata": {},
   "outputs": [],
   "source": [
    "mean2 = np_x_2.mean()"
   ]
  },
  {
   "cell_type": "code",
   "execution_count": 60,
   "id": "f2892b2a-97ac-4bff-829d-1b752a7c1185",
   "metadata": {},
   "outputs": [],
   "source": [
    "std1 = np_x_1.std()"
   ]
  },
  {
   "cell_type": "code",
   "execution_count": 61,
   "id": "46723fd9-537b-4ef1-a648-12e678515a85",
   "metadata": {},
   "outputs": [],
   "source": [
    "std2 = np_x_2.std()"
   ]
  },
  {
   "cell_type": "code",
   "execution_count": 62,
   "id": "5e826c56-64fe-46ac-9cc6-b04883cb75d8",
   "metadata": {},
   "outputs": [],
   "source": [
    "NP_x_1 = np_x_1 - mean1"
   ]
  },
  {
   "cell_type": "code",
   "execution_count": 48,
   "id": "ecda8961-0ffc-4c14-b9d6-d679af855561",
   "metadata": {},
   "outputs": [],
   "source": [
    "NP_x_2 = np_x_2 - mean2"
   ]
  },
  {
   "cell_type": "code",
   "execution_count": 57,
   "id": "2fb75803-73dc-4f08-bd71-3388b55c82b7",
   "metadata": {},
   "outputs": [],
   "source": [
    "np_x_12 = NP_x_1*NP_x_2"
   ]
  },
  {
   "cell_type": "code",
   "execution_count": 66,
   "id": "86249334-4356-421a-9497-8588d24acd14",
   "metadata": {},
   "outputs": [],
   "source": [
    "n1 = len(np_x_1)"
   ]
  },
  {
   "cell_type": "code",
   "execution_count": 67,
   "id": "988f9377-bbe1-4680-910f-20219d66c602",
   "metadata": {},
   "outputs": [],
   "source": [
    "n2 = len(np_x_2)"
   ]
  },
  {
   "cell_type": "code",
   "execution_count": 70,
   "id": "661b51e2-b679-4f88-bf72-eaab40319527",
   "metadata": {},
   "outputs": [],
   "source": [
    "PCC = (np_x_12.sum())/(std1*std2*(np.sqrt(n1*n2)))"
   ]
  },
  {
   "cell_type": "code",
   "execution_count": 71,
   "id": "1ddf0e17-6844-4cd3-90ed-ad68d082c998",
   "metadata": {},
   "outputs": [
    {
     "name": "stdout",
     "output_type": "stream",
     "text": [
      "0.9871796626270701\n"
     ]
    }
   ],
   "source": [
    "print(PCC)"
   ]
  },
  {
   "cell_type": "code",
   "execution_count": 69,
   "id": "ff8647cf-a63c-4717-b4fa-64a204a18a67",
   "metadata": {},
   "outputs": [
    {
     "data": {
      "text/plain": [
       "array([[1.        , 0.98717966],\n",
       "       [0.98717966, 1.        ]])"
      ]
     },
     "execution_count": 69,
     "metadata": {},
     "output_type": "execute_result"
    }
   ],
   "source": [
    "np.corrcoef(np_x_1,np_x_2) #result for pearson correlation coeeficient is the same"
   ]
  },
  {
   "cell_type": "code",
   "execution_count": null,
   "id": "77e743cd-865e-4cf8-9cc3-126a75e3db82",
   "metadata": {},
   "outputs": [],
   "source": []
  }
 ],
 "metadata": {
  "kernelspec": {
   "display_name": "Python 3 (ipykernel)",
   "language": "python",
   "name": "python3"
  },
  "language_info": {
   "codemirror_mode": {
    "name": "ipython",
    "version": 3
   },
   "file_extension": ".py",
   "mimetype": "text/x-python",
   "name": "python",
   "nbconvert_exporter": "python",
   "pygments_lexer": "ipython3",
   "version": "3.12.3"
  }
 },
 "nbformat": 4,
 "nbformat_minor": 5
}
