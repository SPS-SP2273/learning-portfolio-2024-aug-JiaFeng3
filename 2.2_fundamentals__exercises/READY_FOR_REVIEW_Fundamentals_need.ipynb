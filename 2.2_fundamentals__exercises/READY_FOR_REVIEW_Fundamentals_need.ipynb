{
 "cells": [
  {
   "cell_type": "markdown",
   "id": "643b04a2-d0a0-4528-be0f-4ab148a8e4a7",
   "metadata": {},
   "source": [
    "Python is case-sensitive.\n",
    "Python reads line-by-line so if error occurs, it will stop.\n",
    "indentations and spaces cannot be used freely as they affect the code.\n",
    "print() function will display information in the bracket.\n",
    "'#'is used to write comments, and does not affect the code.\n",
    "'=' is to set something equal.\n",
    "'=='is to check/ask if something is equal to something else\n",
    "import is a function that add packages to python so that certain functions such as sqrt() can be used.\n",
    "dot(.) refers to ownership. The owner of the function is the one before the dot.\n",
    "() is used for functions and math\n",
    "[] is used for list\n",
    "{} is used for storing information in dictionary\n",
    "if statement allows user to state conditions for different output. The conditions are based on the previous inputs\n",
    "*A function accepts an argument. But not every function needs argument.\n",
    "A variable to something that withholds information. The name of variable is preferrably the description of the variable.\n",
    "Packages have different uses. Numpy and math package both have the sqrt() function but Numpy can handle a list of numbers\n",
    ".split() does not need argument, this function split sentence into words, or long string to shorter strings.*"
   ]
  },
  {
   "cell_type": "code",
   "execution_count": null,
   "id": "3e31aa24-93f6-4e8b-9ba8-86b829fdda9a",
   "metadata": {},
   "outputs": [],
   "source": []
  },
  {
   "cell_type": "code",
   "execution_count": 3,
   "id": "fa2035fc-06eb-45a7-98a8-3ef0f322f1a4",
   "metadata": {},
   "outputs": [],
   "source": [
    "import numpy as np    # Importing Numpy and giving \n",
    "                      # it an alias np \n",
    "                      # because I am lazy"
   ]
  },
  {
   "cell_type": "code",
   "execution_count": 6,
   "id": "a6b7d68a-0c2d-44bc-aebc-0d6c4cd48eaf",
   "metadata": {},
   "outputs": [
    {
     "name": "stdout",
     "output_type": "stream",
     "text": [
      "3 4 5.0\n"
     ]
    }
   ],
   "source": [
    "x, y = 3, 4\n",
    "z = np.sqrt(x**2 + y**2)\n",
    "print(x, y, z)"
   ]
  },
  {
   "cell_type": "code",
   "execution_count": null,
   "id": "e3613b3c-c87d-41db-8e44-98381ccc4ee3",
   "metadata": {},
   "outputs": [],
   "source": []
  },
  {
   "cell_type": "markdown",
   "id": "2241d5ce-379e-4739-8e04-5dc551528514",
   "metadata": {},
   "source": [
    "|#|Term  |Description   |\n",
    "|---|---|---|\n",
    "|1   |Function   |It executes a specific task, we can define our own.   |\n",
    "|2  |Arguments   |Arguments are values to tell a function to produce a certain output   |\n",
    "|3   |Comments   |Comments are used to describe codes in words such that the coder and other people can understand the code easily  |\n",
    "|4   |Indentations   |Indentations are spaces at the start in the code that separates a block of code from the rest of the codes.  |\n",
    "|4   |Packages   |When Python does not have a certain build-in function, a package can be imported to give python ability to read or generate the function   |\n",
    "|5   |.   |The dot refers to ownership, where the owner is before the dot   |\n",
    "|6   |:   |To indicate the output of a statement if certain conditions are made   |\n",
    "|7   |[ ]   |To generate a 1D list   |\n",
    "|8   |[ [ ],[ ] ]   |To generate a 2D list   |\n",
    "|10   |{}   |To store data in a dictionary, where certain output can be printed out when certain input is used in the print() function  |"
   ]
  },
  {
   "cell_type": "code",
   "execution_count": null,
   "id": "7114fa2c-3767-4cd7-988c-19187362c321",
   "metadata": {},
   "outputs": [],
   "source": []
  },
  {
   "cell_type": "code",
   "execution_count": 22,
   "id": "578b29af-1bae-477e-bba6-3aeb0f8a5097",
   "metadata": {},
   "outputs": [
    {
     "data": {
      "text/plain": [
       "2.5"
      ]
     },
     "execution_count": 22,
     "metadata": {},
     "output_type": "execute_result"
    }
   ],
   "source": [
    "5/2           # The output is the exact answer for division"
   ]
  },
  {
   "cell_type": "code",
   "execution_count": 23,
   "id": "d38cc961-1915-4f2b-9005-26799db90bc6",
   "metadata": {},
   "outputs": [
    {
     "data": {
      "text/plain": [
       "2"
      ]
     },
     "execution_count": 23,
     "metadata": {},
     "output_type": "execute_result"
    }
   ],
   "source": [
    "5//2          # The output is the quotient of division"
   ]
  },
  {
   "cell_type": "code",
   "execution_count": 30,
   "id": "21c51554-0d3b-4783-964e-7eab945a7b1c",
   "metadata": {},
   "outputs": [
    {
     "data": {
      "text/plain": [
       "1"
      ]
     },
     "execution_count": 30,
     "metadata": {},
     "output_type": "execute_result"
    }
   ],
   "source": [
    "5%2           # The output is the remainder after division"
   ]
  },
  {
   "cell_type": "code",
   "execution_count": null,
   "id": "3c7478ae-a37c-48c3-8266-85be4f772c37",
   "metadata": {},
   "outputs": [],
   "source": []
  }
 ],
 "metadata": {
  "kernelspec": {
   "display_name": "Python 3 (ipykernel)",
   "language": "python",
   "name": "python3"
  },
  "language_info": {
   "codemirror_mode": {
    "name": "ipython",
    "version": 3
   },
   "file_extension": ".py",
   "mimetype": "text/x-python",
   "name": "python",
   "nbconvert_exporter": "python",
   "pygments_lexer": "ipython3",
   "version": "3.12.3"
  }
 },
 "nbformat": 4,
 "nbformat_minor": 5
}
