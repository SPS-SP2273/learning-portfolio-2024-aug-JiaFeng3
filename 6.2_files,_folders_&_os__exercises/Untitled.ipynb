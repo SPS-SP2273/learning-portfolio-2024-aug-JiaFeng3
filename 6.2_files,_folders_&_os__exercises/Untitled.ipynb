{
 "cells": [
  {
   "cell_type": "code",
   "execution_count": 3,
   "id": "4e47e291-1227-4fda-a557-a8e6e60daa2d",
   "metadata": {},
   "outputs": [],
   "source": [
    "import os\n",
    "import glob\n",
    "import shutil"
   ]
  },
  {
   "cell_type": "code",
   "execution_count": 2,
   "id": "c6579952-9174-4d41-a8f9-08de9e02cdc1",
   "metadata": {},
   "outputs": [],
   "source": [
    "month_num = {\n",
    "'jan': '01', 'feb': '02', 'mar': '03',\n",
    "'apr': '04', 'may': '05', 'jun': '06',\n",
    "'jul': '07', 'aug': '08', 'sep': '09',\n",
    "'oct': '10', 'nov': '11', 'dec': '12'\n",
    "}\n"
   ]
  },
  {
   "cell_type": "code",
   "execution_count": 58,
   "id": "a3f1189d-f0cf-49d4-b27f-855f11977f8c",
   "metadata": {},
   "outputs": [
    {
     "data": {
      "text/plain": [
       "dict_values(['01', '02', '03', '04', '05', '06', '07', '08', '09', '10', '11', '12'])"
      ]
     },
     "execution_count": 58,
     "metadata": {},
     "output_type": "execute_result"
    }
   ],
   "source": [
    "month_num.values()"
   ]
  },
  {
   "cell_type": "code",
   "execution_count": 97,
   "id": "a391a797-6907-4e44-b71f-a92211b4053f",
   "metadata": {},
   "outputs": [
    {
     "name": "stdout",
     "output_type": "stream",
     "text": [
      "feb-08-singapore.text\n",
      "02-08-singapore.text\n",
      "feb-08-singapore.text\n"
     ]
    }
   ],
   "source": [
    "month=['jan','feb','oct']\n",
    "file = 'feb-08_singapore.text'\n",
    "for mon in month:\n",
    "    x= file.replace(mon,month_num[mon]) .replace('_','-')\n",
    "    print(x)\n"
   ]
  },
  {
   "cell_type": "code",
   "execution_count": 94,
   "id": "e5846159-9e91-487c-851d-1bd4466feb47",
   "metadata": {},
   "outputs": [
    {
     "data": {
      "text/plain": [
       "('oct', '-08_singapore.txt')"
      ]
     },
     "execution_count": 94,
     "metadata": {},
     "output_type": "execute_result"
    }
   ],
   "source": [
    "os.path.split(path) # Split filename from the rest\n"
   ]
  },
  {
   "cell_type": "code",
   "execution_count": 38,
   "id": "10b96500-3a2f-42be-855c-a7f2d6210e09",
   "metadata": {},
   "outputs": [
    {
     "data": {
      "text/plain": [
       "('oct-08_singapore', '.txt')"
      ]
     },
     "execution_count": 38,
     "metadata": {},
     "output_type": "execute_result"
    }
   ],
   "source": [
    "os.path.splitext(path)   # Split extension"
   ]
  },
  {
   "cell_type": "code",
   "execution_count": 39,
   "id": "de06f063-82bb-4951-8551-5af9fab95ae6",
   "metadata": {},
   "outputs": [
    {
     "data": {
      "text/plain": [
       "''"
      ]
     },
     "execution_count": 39,
     "metadata": {},
     "output_type": "execute_result"
    }
   ],
   "source": [
    "os.path.dirname(path)    # Show the directory"
   ]
  },
  {
   "cell_type": "code",
   "execution_count": null,
   "id": "cea12844-8b4e-47c9-be2b-892f1731d7d6",
   "metadata": {},
   "outputs": [],
   "source": [
    "def rename_my_file(old_file_name):\n",
    "    old_file) "
   ]
  }
 ],
 "metadata": {
  "kernelspec": {
   "display_name": "Python 3 (ipykernel)",
   "language": "python",
   "name": "python3"
  },
  "language_info": {
   "codemirror_mode": {
    "name": "ipython",
    "version": 3
   },
   "file_extension": ".py",
   "mimetype": "text/x-python",
   "name": "python",
   "nbconvert_exporter": "python",
   "pygments_lexer": "ipython3",
   "version": "3.12.3"
  }
 },
 "nbformat": 4,
 "nbformat_minor": 5
}
