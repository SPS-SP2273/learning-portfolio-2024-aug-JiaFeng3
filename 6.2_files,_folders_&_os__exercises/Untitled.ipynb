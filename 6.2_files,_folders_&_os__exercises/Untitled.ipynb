{
 "cells": [
  {
   "cell_type": "code",
   "execution_count": 102,
   "id": "4e47e291-1227-4fda-a557-a8e6e60daa2d",
   "metadata": {},
   "outputs": [],
   "source": [
    "import os\n",
    "import glob\n",
    "import shutil"
   ]
  },
  {
   "cell_type": "code",
   "execution_count": 166,
   "id": "c6579952-9174-4d41-a8f9-08de9e02cdc1",
   "metadata": {},
   "outputs": [],
   "source": [
    "month_num = {\n",
    "'jan': '01', 'feb': '02', 'mar': '03',\n",
    "'apr': '04', 'may': '05', 'jun': '06',\n",
    "'jul': '07', 'aug': '08', 'sep': '09',\n",
    "'oct': '10', 'nov': '11', 'dec': '12'\n",
    "}\n"
   ]
  },
  {
   "cell_type": "code",
   "execution_count": 111,
   "id": "cea12844-8b4e-47c9-be2b-892f1731d7d6",
   "metadata": {},
   "outputs": [
    {
     "name": "stdout",
     "output_type": "stream",
     "text": [
      "C:\\Users\\tanji\\OneDrive\\Documents\\GitHub\\learning-portfolio-2024-aug-JiaFeng3\\6.2_files,_folders_&_os__exercises\n",
      "['.ipynb_checkpoints', 'files,_folders_&_os_(need)_exercises.ipynb', 'life', 'my-text-once.txt', 'os-collaboration-exercise-data.zip', 'people', 'spectrum-01.txt', 'Untitled.ipynb']\n"
     ]
    }
   ],
   "source": [
    "print(os.getcwd())\n",
    "os.rename('my-text-lines.txt','life')\n",
    "print(os.listdir())"
   ]
  },
  {
   "cell_type": "code",
   "execution_count": 272,
   "id": "e4edf84f-10ab-4258-b762-84c54f98004e",
   "metadata": {},
   "outputs": [
    {
     "ename": "NotADirectoryError",
     "evalue": "[WinError 267] The directory name is invalid: 'C:\\\\\\\\Users\\\\tanji\\\\OneDrive\\\\Documents\\\\GitHub\\\\learning-portfolio-2024-aug-JiaFeng3\\\\6.2_files,_folders_&_os__exercises\\\\os-collaboration-exercise-data.zip'",
     "output_type": "error",
     "traceback": [
      "\u001b[1;31m---------------------------------------------------------------------------\u001b[0m",
      "\u001b[1;31mNotADirectoryError\u001b[0m                        Traceback (most recent call last)",
      "Cell \u001b[1;32mIn[272], line 1\u001b[0m\n\u001b[1;32m----> 1\u001b[0m \u001b[43mos\u001b[49m\u001b[38;5;241;43m.\u001b[39;49m\u001b[43mchdir\u001b[49m\u001b[43m(\u001b[49m\u001b[38;5;124;43m'\u001b[39;49m\u001b[38;5;124;43mC:\u001b[39;49m\u001b[38;5;130;43;01m\\\\\u001b[39;49;00m\u001b[38;5;130;43;01m\\\\\u001b[39;49;00m\u001b[38;5;124;43mUsers\u001b[39;49m\u001b[38;5;130;43;01m\\\\\u001b[39;49;00m\u001b[38;5;124;43mtanji\u001b[39;49m\u001b[38;5;130;43;01m\\\\\u001b[39;49;00m\u001b[38;5;124;43mOneDrive\u001b[39;49m\u001b[38;5;130;43;01m\\\\\u001b[39;49;00m\u001b[38;5;124;43mDocuments\u001b[39;49m\u001b[38;5;130;43;01m\\\\\u001b[39;49;00m\u001b[38;5;124;43mGitHub\u001b[39;49m\u001b[38;5;130;43;01m\\\\\u001b[39;49;00m\u001b[38;5;124;43mlearning-portfolio-2024-aug-JiaFeng3\u001b[39;49m\u001b[38;5;130;43;01m\\\\\u001b[39;49;00m\u001b[38;5;124;43m6.2_files,_folders_&_os__exercises\u001b[39;49m\u001b[38;5;130;43;01m\\\\\u001b[39;49;00m\u001b[38;5;124;43mos-collaboration-exercise-data.zip\u001b[39;49m\u001b[38;5;124;43m'\u001b[39;49m\u001b[43m)\u001b[49m\n",
      "\u001b[1;31mNotADirectoryError\u001b[0m: [WinError 267] The directory name is invalid: 'C:\\\\\\\\Users\\\\tanji\\\\OneDrive\\\\Documents\\\\GitHub\\\\learning-portfolio-2024-aug-JiaFeng3\\\\6.2_files,_folders_&_os__exercises\\\\os-collaboration-exercise-data.zip'"
     ]
    }
   ],
   "source": [
    "os.chdir('C:\\\\\\\\Users\\\\tanji\\\\OneDrive\\\\Documents\\\\GitHub\\\\learning-portfolio-2024-aug-JiaFeng3\\\\6.2_files,_folders_&_os__exercises\\\\os-collaboration-exercise-data.zip')"
   ]
  },
  {
   "cell_type": "code",
   "execution_count": 207,
   "id": "f00556d3-ea56-47bd-b16b-29dbe564e855",
   "metadata": {},
   "outputs": [
    {
     "name": "stdout",
     "output_type": "stream",
     "text": [
      "12-08-singapore.txt\n"
     ]
    }
   ],
   "source": [
    "file = 'nov-08_singapore.txt'\n",
    "for key in month_num:\n",
    "    if key in file:\n",
    "        x= file.replace(key,month_num[key]) .replace('_','-')\n",
    "print(x)"
   ]
  },
  {
   "cell_type": "code",
   "execution_count": 233,
   "id": "9cdfee55-165f-46eb-8b90-1ac49b992819",
   "metadata": {},
   "outputs": [],
   "source": [
    "def rename_my_file(old_file_name):\n",
    "    for key in month_num:\n",
    "        if key in old_file_name:\n",
    "            y= old_file_name.replace(key,month_num[key]) .replace('_','-')\n",
    "    return y\n"
   ]
  },
  {
   "cell_type": "code",
   "execution_count": 234,
   "id": "213c6d59-6183-46d2-a880-830cbeeebdaf",
   "metadata": {},
   "outputs": [
    {
     "data": {
      "text/plain": [
       "'06-10-singapore.txt'"
      ]
     },
     "execution_count": 234,
     "metadata": {},
     "output_type": "execute_result"
    }
   ],
   "source": [
    "rename_my_file('jun-10_singapore.txt')"
   ]
  },
  {
   "cell_type": "code",
   "execution_count": 235,
   "id": "b04d6ca6-1602-4ab0-9153-d187b5a1ef35",
   "metadata": {},
   "outputs": [],
   "source": [
    "Dates =['oct-08_singapore.txt', 'jul-10_cairo.txt', 'may-15_dhaka.txt',\n",
    " 'may-13_cairo.txt', 'oct-21_cairo.txt', 'jan-10_singapore.txt',\n",
    " 'jun-20_tokyo.txt', 'aug-06_jakarta.txt', 'dec-21_karachi.txt',\n",
    " 'jan-01_tokyo.txt']"
   ]
  },
  {
   "cell_type": "code",
   "execution_count": 247,
   "id": "3a1ef65d-d69b-4f8f-8313-960692edec2f",
   "metadata": {},
   "outputs": [
    {
     "name": "stdout",
     "output_type": "stream",
     "text": [
      "oct-08_singapore.txt ----> 10-08-singapore.txt\n",
      "jul-10_cairo.txt ----> 07-10-cairo.txt\n",
      "may-15_dhaka.txt ----> 05-15-dhaka.txt\n",
      "may-13_cairo.txt ----> 05-13-cairo.txt\n",
      "oct-21_cairo.txt ----> 10-21-cairo.txt\n",
      "jan-10_singapore.txt ----> 01-10-singapore.txt\n",
      "jun-20_tokyo.txt ----> 06-20-tokyo.txt\n",
      "aug-06_jakarta.txt ----> 08-06-jakarta.txt\n",
      "dec-21_karachi.txt ----> 12-21-karachi.txt\n",
      "jan-01_tokyo.txt ----> 01-01-tokyo.txt\n",
      "['10-08-singapore.txt', '07-10-cairo.txt', '05-15-dhaka.txt', '05-13-cairo.txt', '10-21-cairo.txt', '01-10-singapore.txt', '06-20-tokyo.txt', '08-06-jakarta.txt', '12-21-karachi.txt', '01-01-tokyo.txt']\n"
     ]
    }
   ],
   "source": [
    "date = []\n",
    "for z in Dates:\n",
    "    new_file=rename_my_file(z)\n",
    "    date.append(new_file)\n",
    "    print (f'{z} ----> {new_file}')\n",
    "print(date)"
   ]
  },
  {
   "cell_type": "code",
   "execution_count": 254,
   "id": "cc8388fe-92f4-4e03-a3ad-5e85d90edf8f",
   "metadata": {},
   "outputs": [
    {
     "data": {
      "text/plain": [
       "[]"
      ]
     },
     "execution_count": 254,
     "metadata": {},
     "output_type": "execute_result"
    }
   ],
   "source": [
    "glob.glob('os-collaboration-exercise-data.zip/os-collaboration-exercise-data/**/*.txt', recursive=True)"
   ]
  },
  {
   "cell_type": "code",
   "execution_count": null,
   "id": "8dfdedd0-659e-4b61-8f41-ab8a14059968",
   "metadata": {},
   "outputs": [],
   "source": []
  }
 ],
 "metadata": {
  "kernelspec": {
   "display_name": "Python 3 (ipykernel)",
   "language": "python",
   "name": "python3"
  },
  "language_info": {
   "codemirror_mode": {
    "name": "ipython",
    "version": 3
   },
   "file_extension": ".py",
   "mimetype": "text/x-python",
   "name": "python",
   "nbconvert_exporter": "python",
   "pygments_lexer": "ipython3",
   "version": "3.12.3"
  }
 },
 "nbformat": 4,
 "nbformat_minor": 5
}
