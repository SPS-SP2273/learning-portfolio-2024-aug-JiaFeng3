{
 "cells": [
  {
   "cell_type": "code",
   "execution_count": 2,
   "id": "aaba9dc7-c69d-45e2-b411-4efa194ed979",
   "metadata": {},
   "outputs": [],
   "source": [
    "import numpy as np"
   ]
  },
  {
   "cell_type": "code",
   "execution_count": 3,
   "id": "d79c4532-2b84-468e-9404-763ee4078d2c",
   "metadata": {},
   "outputs": [],
   "source": [
    "np_array_2d = np.array([[1, \"A\"], [3, \"C\"], [2, \"B\"], [4, \"D\"],\n",
    "                        [5, \"E\"], [7, \"G\"], [6, \"F\"], [8, \"H\"],\n",
    "                        [10, \"J\"], [9, \"I\"]])"
   ]
  },
  {
   "cell_type": "code",
   "execution_count": 4,
   "id": "aab8e7b9-7ed6-4a5d-95bf-0dee2e306475",
   "metadata": {},
   "outputs": [],
   "source": [
    "np_num = np_array_2d[0:,0].astype(int)"
   ]
  },
  {
   "cell_type": "code",
   "execution_count": 5,
   "id": "43951e52-5004-4437-adb6-39c7cd062904",
   "metadata": {},
   "outputs": [],
   "source": [
    "np_1 = np_num%2"
   ]
  },
  {
   "cell_type": "code",
   "execution_count": 6,
   "id": "4754f331-2ed4-416c-94b3-f55248254f99",
   "metadata": {},
   "outputs": [],
   "source": [
    "np_2 = (np_1 == 1)"
   ]
  },
  {
   "cell_type": "code",
   "execution_count": 7,
   "id": "fef357aa-f8f7-4730-b33b-6f7f81a977bf",
   "metadata": {},
   "outputs": [],
   "source": [
    "np_3 = np_array_2d[np_2]"
   ]
  },
  {
   "cell_type": "code",
   "execution_count": 8,
   "id": "7baa355d-7f41-4c59-9595-a3b0e1bd5f37",
   "metadata": {},
   "outputs": [
    {
     "data": {
      "text/plain": [
       "array(['A', 'C', 'E', 'G', 'I'], dtype='<U21')"
      ]
     },
     "execution_count": 8,
     "metadata": {},
     "output_type": "execute_result"
    }
   ],
   "source": [
    "np_3[0:,1]"
   ]
  },
  {
   "cell_type": "code",
   "execution_count": null,
   "id": "13c71ed2-13c5-490e-848f-2267c5a9fd6a",
   "metadata": {},
   "outputs": [],
   "source": []
  },
  {
   "cell_type": "code",
   "execution_count": 3,
   "id": "63711c1f-924d-4982-be11-6d6b91fd82e4",
   "metadata": {},
   "outputs": [],
   "source": [
    "np_array = np.array([\n",
    "[66, 50, 57, -1, -1],\n",
    " [92, -1, 88, -1, -1],\n",
    " [75, -1, -1, 76, -1],\n",
    " [-1, 51, 87, -1, -1],\n",
    " [71, -1, 67, -1, 69]\n",
    "])"
   ]
  },
  {
   "cell_type": "code",
   "execution_count": 30,
   "id": "a6889261-6f7b-4341-8c8a-92c06517cab9",
   "metadata": {},
   "outputs": [],
   "source": [
    "np_array[np_array < 50] = -1"
   ]
  },
  {
   "cell_type": "code",
   "execution_count": 31,
   "id": "127e5efe-e532-4c4e-9631-ca13fe91eda9",
   "metadata": {},
   "outputs": [],
   "source": [
    "np_array[np_array == 50] = 0"
   ]
  },
  {
   "cell_type": "code",
   "execution_count": 32,
   "id": "d0341e35-c86b-425f-a8d5-cc8acc8b9195",
   "metadata": {},
   "outputs": [],
   "source": [
    "np_array[np_array > 50] = 1"
   ]
  },
  {
   "cell_type": "code",
   "execution_count": 33,
   "id": "a40939dc-7543-434d-aec2-48269a047eb9",
   "metadata": {},
   "outputs": [
    {
     "name": "stdout",
     "output_type": "stream",
     "text": [
      "[[ 1  0  1 -1 -1]\n",
      " [ 1 -1  1 -1 -1]\n",
      " [ 1 -1 -1  1 -1]\n",
      " [-1  1  1 -1 -1]\n",
      " [ 1 -1  1 -1  1]]\n"
     ]
    }
   ],
   "source": [
    "print(np_array)"
   ]
  },
  {
   "cell_type": "code",
   "execution_count": 4,
   "id": "eeada8c4-f72d-484f-a904-4e3c9dc26190",
   "metadata": {},
   "outputs": [
    {
     "data": {
      "text/plain": [
       "array([[False, False, False,  True,  True],\n",
       "       [False,  True, False,  True,  True],\n",
       "       [False,  True,  True, False,  True],\n",
       "       [ True, False, False,  True,  True],\n",
       "       [False,  True, False,  True, False]])"
      ]
     },
     "execution_count": 4,
     "metadata": {},
     "output_type": "execute_result"
    }
   ],
   "source": [
    "np_array<50"
   ]
  },
  {
   "cell_type": "code",
   "execution_count": null,
   "id": "6885407a-74ec-4961-9a4a-393d0e93838a",
   "metadata": {},
   "outputs": [],
   "source": []
  }
 ],
 "metadata": {
  "kernelspec": {
   "display_name": "Python 3 (ipykernel)",
   "language": "python",
   "name": "python3"
  },
  "language_info": {
   "codemirror_mode": {
    "name": "ipython",
    "version": 3
   },
   "file_extension": ".py",
   "mimetype": "text/x-python",
   "name": "python",
   "nbconvert_exporter": "python",
   "pygments_lexer": "ipython3",
   "version": "3.12.3"
  }
 },
 "nbformat": 4,
 "nbformat_minor": 5
}
