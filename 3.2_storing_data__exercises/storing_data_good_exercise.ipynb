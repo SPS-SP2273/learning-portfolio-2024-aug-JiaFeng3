{
 "cells": [
  {
   "cell_type": "markdown",
   "id": "c908a975-07ef-4047-9c16-4fb41f27c736",
   "metadata": {},
   "source": [
    "Substting is to pick out a subset inside an array or a list. The subset can be a single data set or a range of data sets.\n",
    "Indexing is the act of choosing a single data set by specifying the position the data set is using numbers (index).\n",
    "Slicing  is to select a range of data sets from a list or an array.\n",
    "Masking is a way of subsetting, by specifying conditions, masking can exclude the False and allowing only True to be seen.\n"
   ]
  },
  {
   "cell_type": "code",
   "execution_count": null,
   "id": "b8061220-c528-4182-ab44-576e9cefd05d",
   "metadata": {},
   "outputs": [],
   "source": []
  },
  {
   "cell_type": "code",
   "execution_count": 1,
   "id": "aaba9dc7-c69d-45e2-b411-4efa194ed979",
   "metadata": {},
   "outputs": [],
   "source": [
    "import numpy as np"
   ]
  },
  {
   "cell_type": "code",
   "execution_count": 2,
   "id": "d79c4532-2b84-468e-9404-763ee4078d2c",
   "metadata": {},
   "outputs": [],
   "source": [
    "np_array_2d = np.array([[1, \"A\"], [3, \"C\"], [2, \"B\"], [4, \"D\"],\n",
    "                        [5, \"E\"], [7, \"G\"], [6, \"F\"], [8, \"H\"],\n",
    "                        [10, \"J\"], [9, \"I\"]])"
   ]
  },
  {
   "cell_type": "code",
   "execution_count": 11,
   "id": "aab8e7b9-7ed6-4a5d-95bf-0dee2e306475",
   "metadata": {},
   "outputs": [],
   "source": [
    "np_num = np_array_2d[0:,0].astype(int)\n",
    "#print(np_num)"
   ]
  },
  {
   "cell_type": "code",
   "execution_count": 19,
   "id": "43951e52-5004-4437-adb6-39c7cd062904",
   "metadata": {},
   "outputs": [
    {
     "name": "stdout",
     "output_type": "stream",
     "text": [
      "[1 1 0 0 1 1 0 0 0 1]\n"
     ]
    }
   ],
   "source": [
    "np_1 = np_num%2\n",
    "print(np_1)"
   ]
  },
  {
   "cell_type": "code",
   "execution_count": 16,
   "id": "4754f331-2ed4-416c-94b3-f55248254f99",
   "metadata": {},
   "outputs": [
    {
     "name": "stdout",
     "output_type": "stream",
     "text": [
      "[ True  True False False  True  True False False False  True]\n"
     ]
    }
   ],
   "source": [
    "np_2 = (np_1 == 1)\n",
    "print(np_2)"
   ]
  },
  {
   "cell_type": "code",
   "execution_count": 20,
   "id": "fef357aa-f8f7-4730-b33b-6f7f81a977bf",
   "metadata": {},
   "outputs": [],
   "source": [
    "np_3 = np_array_2d[np_1==1]"
   ]
  },
  {
   "cell_type": "code",
   "execution_count": 21,
   "id": "7baa355d-7f41-4c59-9595-a3b0e1bd5f37",
   "metadata": {},
   "outputs": [
    {
     "data": {
      "text/plain": [
       "array(['A', 'C', 'E', 'G', 'I'], dtype='<U21')"
      ]
     },
     "execution_count": 21,
     "metadata": {},
     "output_type": "execute_result"
    }
   ],
   "source": [
    "np_3[0:,1]"
   ]
  },
  {
   "cell_type": "code",
   "execution_count": null,
   "id": "13c71ed2-13c5-490e-848f-2267c5a9fd6a",
   "metadata": {},
   "outputs": [],
   "source": []
  },
  {
   "cell_type": "code",
   "execution_count": 24,
   "id": "63711c1f-924d-4982-be11-6d6b91fd82e4",
   "metadata": {},
   "outputs": [],
   "source": [
    "np_array = np.array([\n",
    "[66, 50, 57, -1, -1],\n",
    " [92, -1, 88, -1, -1],\n",
    " [75, -1, -1, 76, -1],\n",
    " [-1, 51, 87, -1, -1],\n",
    " [71, -1, 67, -1, 69]\n",
    "])"
   ]
  },
  {
   "cell_type": "code",
   "execution_count": 30,
   "id": "fe8d3e8f-7878-4bd7-972a-c00c57856d5f",
   "metadata": {},
   "outputs": [],
   "source": [
    "np_array[np_array < 50] = -1"
   ]
  },
  {
   "cell_type": "code",
   "execution_count": 10,
   "id": "127e5efe-e532-4c4e-9631-ca13fe91eda9",
   "metadata": {},
   "outputs": [],
   "source": [
    "np_array[np_array == 50] = 0"
   ]
  },
  {
   "cell_type": "code",
   "execution_count": 11,
   "id": "d0341e35-c86b-425f-a8d5-cc8acc8b9195",
   "metadata": {},
   "outputs": [],
   "source": [
    "np_array[np_array > 50] = 1"
   ]
  },
  {
   "cell_type": "code",
   "execution_count": 12,
   "id": "a40939dc-7543-434d-aec2-48269a047eb9",
   "metadata": {},
   "outputs": [
    {
     "name": "stdout",
     "output_type": "stream",
     "text": [
      "[[ 1  0  1 -1 -1]\n",
      " [ 1 -1  1 -1 -1]\n",
      " [ 1 -1 -1  1 -1]\n",
      " [-1  1  1 -1 -1]\n",
      " [ 1 -1  1 -1  1]]\n"
     ]
    }
   ],
   "source": [
    "print(np_array)"
   ]
  },
  {
   "cell_type": "code",
   "execution_count": null,
   "id": "6885407a-74ec-4961-9a4a-393d0e93838a",
   "metadata": {},
   "outputs": [],
   "source": []
  }
 ],
 "metadata": {
  "kernelspec": {
   "display_name": "Python 3 (ipykernel)",
   "language": "python",
   "name": "python3"
  },
  "language_info": {
   "codemirror_mode": {
    "name": "ipython",
    "version": 3
   },
   "file_extension": ".py",
   "mimetype": "text/x-python",
   "name": "python",
   "nbconvert_exporter": "python",
   "pygments_lexer": "ipython3",
   "version": "3.12.3"
  }
 },
 "nbformat": 4,
 "nbformat_minor": 5
}
