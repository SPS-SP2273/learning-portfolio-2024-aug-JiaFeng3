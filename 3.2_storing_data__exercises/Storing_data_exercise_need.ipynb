{
 "cells": [
  {
   "cell_type": "markdown",
   "id": "f01bc58a-0d83-4b6d-98ac-2d5516fdd6da",
   "metadata": {},
   "source": [
    "Similarities\n",
    "list and array store data which can be assessed through specifying index.\n",
    "Both of them can compute sum, max and min of the numbers stored\n",
    "\n",
    "Differneces\n",
    "Array can do mathematical operations to the numbers in the array much more straightfoward than list such as adding a number and multiplying a number. Because list cannot add a number by writing '+ number' and list grow when being multiplied by a number.\n",
    "*Arrays are fussy about the type if data stored. Arrays insist on having a single data type unlike lists which can accomdate different data types*\n",
    "\n",
    "A dictionary holds two lists or arrays for the same data, these two lists are the key and value. The keys and values form pairs which can be called out using their respective key or value."
   ]
  },
  {
   "cell_type": "code",
   "execution_count": 6,
   "id": "8f5bffa8-6054-4737-8484-7fb018b99c00",
   "metadata": {},
   "outputs": [],
   "source": [
    "import numpy as np"
   ]
  },
  {
   "cell_type": "code",
   "execution_count": 31,
   "id": "a4d04b2d-564c-4aae-b006-a3b376e6d5ac",
   "metadata": {},
   "outputs": [
    {
     "name": "stdout",
     "output_type": "stream",
     "text": [
      "a1\n",
      "c3\n",
      "e5\n",
      "g7\n",
      "i9\n"
     ]
    }
   ],
   "source": [
    "py_list = [\"a1\", \"b2\", \"c3\", \"d4\", \"e5\", \"f6\", \"g7\", \"h8\", \"i9\", \"j10\"]\n",
    "print(py_list[0])   # Prints 'a1'\n",
    "print(py_list[2])   # Prints 'c3'\n",
    "print(py_list[4])   # Prints 'e5'\n",
    "print(py_list[6])   # Prints 'g7'\n",
    "print(py_list[8])   # Prints 'i9'"
   ]
  },
  {
   "cell_type": "code",
   "execution_count": 32,
   "id": "0606203f-c061-4310-a575-dfa8192d7c2a",
   "metadata": {},
   "outputs": [],
   "source": [
    "elements = ['Hydrogen',\n",
    "            'Helium', 'Lithium',\n",
    "            'Beryllium', 'Boron', 'Carbon',\n",
    "            'Nitrogen', 'Oxygen',\n",
    "            'Fluorine',\n",
    "            'Neon']"
   ]
  },
  {
   "cell_type": "code",
   "execution_count": 33,
   "id": "637f506c-3ca3-4ed9-aa75-ed301d7144e5",
   "metadata": {},
   "outputs": [
    {
     "name": "stdout",
     "output_type": "stream",
     "text": [
      "Boron\n"
     ]
    }
   ],
   "source": [
    "print(elements[4])"
   ]
  },
  {
   "cell_type": "code",
   "execution_count": 35,
   "id": "effc1c55-cae9-48d0-854d-b9ab4596a304",
   "metadata": {},
   "outputs": [
    {
     "name": "stdout",
     "output_type": "stream",
     "text": [
      "Boron\n"
     ]
    }
   ],
   "source": [
    "print(elements[-6])"
   ]
  },
  {
   "cell_type": "code",
   "execution_count": null,
   "id": "5060814f-e5b1-4c16-80c7-999f35a69395",
   "metadata": {},
   "outputs": [],
   "source": []
  },
  {
   "cell_type": "code",
   "execution_count": 18,
   "id": "a68e4231-ba55-4b0f-8973-f920a54e59de",
   "metadata": {},
   "outputs": [],
   "source": [
    "numbers=[45, 60, 1, 30, 96, 1, 96, 57, 16, 1,\n",
    "        99, 62, 86, 43, 42, 60, 59, 1, 1, 35,\n",
    "        83, 47, 34, 28, 68, 23, 22, 92, 1, 79,\n",
    "        1, 29, 94, 72, 46, 47, 1, 74, 32, 20,\n",
    "        8, 37, 35, 1, 89, 29, 86, 19, 43, 61]                  "
   ]
  },
  {
   "cell_type": "code",
   "execution_count": 19,
   "id": "cbaa7f43-d175-46eb-b79c-b64a1ef59bc7",
   "metadata": {},
   "outputs": [],
   "source": [
    "np_array = np.array(numbers)"
   ]
  },
  {
   "cell_type": "code",
   "execution_count": 23,
   "id": "714bb1e6-ce11-4e30-b18f-55205c9fe194",
   "metadata": {},
   "outputs": [],
   "source": [
    "np_new = np_array == 1"
   ]
  },
  {
   "cell_type": "code",
   "execution_count": 24,
   "id": "d41bc9b3-50e6-4700-8a50-699daa062bfe",
   "metadata": {},
   "outputs": [
    {
     "name": "stdout",
     "output_type": "stream",
     "text": [
      "[False False  True False False  True False False False  True False False\n",
      " False False False False False  True  True False False False False False\n",
      " False False False False  True False  True False False False False False\n",
      "  True False False False False False False  True False False False False\n",
      " False False]\n"
     ]
    }
   ],
   "source": [
    "print(np_new)"
   ]
  },
  {
   "cell_type": "code",
   "execution_count": 25,
   "id": "00433522-3497-4afc-8165-2a60d56c95cc",
   "metadata": {},
   "outputs": [],
   "source": [
    "#np_new[np_new == False]= 0"
   ]
  },
  {
   "cell_type": "code",
   "execution_count": 26,
   "id": "3662929c-f0e5-4693-bdc5-9c625b8119e4",
   "metadata": {},
   "outputs": [],
   "source": [
    "#np_new[np_new == True]= 1"
   ]
  },
  {
   "cell_type": "code",
   "execution_count": 27,
   "id": "927b24a8-8bbe-4484-be8d-d8b071360fb8",
   "metadata": {},
   "outputs": [
    {
     "data": {
      "text/plain": [
       "np.int64(9)"
      ]
     },
     "execution_count": 27,
     "metadata": {},
     "output_type": "execute_result"
    }
   ],
   "source": [
    "np_new.sum()"
   ]
  },
  {
   "cell_type": "code",
   "execution_count": 33,
   "id": "83ae2bd0-68f4-4222-984c-55050e512149",
   "metadata": {},
   "outputs": [
    {
     "data": {
      "text/plain": [
       "np.int64(148225)"
      ]
     },
     "execution_count": 33,
     "metadata": {},
     "output_type": "execute_result"
    }
   ],
   "source": [
    "np.sum(np_x_1)**2"
   ]
  },
  {
   "cell_type": "code",
   "execution_count": 28,
   "id": "97fd6fd3-7188-4638-bd8a-936da11a49d6",
   "metadata": {},
   "outputs": [],
   "source": [
    "x_1 = [1, 4, 9, 16, 25, 36, 49, 64, 81, 100]\n",
    "x_2 = [1, 8, 27, 64, 125, 216, 343, 512, 729, 1000]"
   ]
  },
  {
   "cell_type": "code",
   "execution_count": 29,
   "id": "dc531711-3dc1-423e-a9b9-76c3063a4d79",
   "metadata": {},
   "outputs": [],
   "source": [
    "np_x_1 = np.array(x_1)\n",
    "np_x_2 = np.array(x_2)"
   ]
  },
  {
   "cell_type": "code",
   "execution_count": 8,
   "id": "20aef81c-af8c-4123-b495-9aa46971253a",
   "metadata": {},
   "outputs": [
    {
     "name": "stdout",
     "output_type": "stream",
     "text": [
      "38.5\n",
      "302.5\n",
      "32.41990129534635\n",
      "326.0893282522444\n"
     ]
    }
   ],
   "source": [
    "print(np_x_1.mean())\n",
    "print(np_x_2.mean())\n",
    "print(np_x_1.std())\n",
    "print(np_x_2.std())"
   ]
  },
  {
   "cell_type": "code",
   "execution_count": 9,
   "id": "deb13770-b72d-4b94-8a1a-d02bd24096a0",
   "metadata": {},
   "outputs": [],
   "source": [
    "mean1 = np_x_1.mean()\n",
    "mean2 = np_x_2.mean()\n",
    "std1 = np_x_1.std()\n",
    "std2 = np_x_2.std()"
   ]
  },
  {
   "cell_type": "code",
   "execution_count": 10,
   "id": "5e826c56-64fe-46ac-9cc6-b04883cb75d8",
   "metadata": {},
   "outputs": [],
   "source": [
    "NP_x_1 = np_x_1 - mean1\n",
    "NP_x_2 = np_x_2 - mean2"
   ]
  },
  {
   "cell_type": "code",
   "execution_count": 11,
   "id": "2fb75803-73dc-4f08-bd71-3388b55c82b7",
   "metadata": {},
   "outputs": [],
   "source": [
    "np_x_12 = NP_x_1*NP_x_2\n",
    "n1 = len(np_x_1)\n",
    "n2 = len(np_x_2)"
   ]
  },
  {
   "cell_type": "code",
   "execution_count": 12,
   "id": "661b51e2-b679-4f88-bf72-eaab40319527",
   "metadata": {},
   "outputs": [
    {
     "name": "stdout",
     "output_type": "stream",
     "text": [
      "0.9871796626270701\n"
     ]
    }
   ],
   "source": [
    "PCC = (np_x_12.sum())/(std1*std2*(np.sqrt(n1*n2)))\n",
    "print(PCC)"
   ]
  },
  {
   "cell_type": "code",
   "execution_count": 69,
   "id": "ff8647cf-a63c-4717-b4fa-64a204a18a67",
   "metadata": {},
   "outputs": [
    {
     "data": {
      "text/plain": [
       "array([[1.        , 0.98717966],\n",
       "       [0.98717966, 1.        ]])"
      ]
     },
     "execution_count": 69,
     "metadata": {},
     "output_type": "execute_result"
    }
   ],
   "source": [
    "np.corrcoef(np_x_1,np_x_2) #result for pearson correlation coeeficient is the same"
   ]
  },
  {
   "cell_type": "markdown",
   "id": "0799fa21-4d6e-4479-a6a6-5c9fcd50880d",
   "metadata": {},
   "source": [
    "The value of Pearson correlation coefficient calculated in both cases is the same. However, the manual calculation will give us a float value of it while the np.corrcoef() will give us a 2d array. The np.corrcoef() will return a matrix by pairing the inputs. Since our input is np.corrcoef(A,B), it will calculate pairs, AA, AB, BA and BB respectively and give us a 2x2 matrix."
   ]
  },
  {
   "cell_type": "code",
   "execution_count": null,
   "id": "7653a9fa-8db3-4e32-8b27-3bace12323b4",
   "metadata": {},
   "outputs": [],
   "source": []
  }
 ],
 "metadata": {
  "kernelspec": {
   "display_name": "Python 3 (ipykernel)",
   "language": "python",
   "name": "python3"
  },
  "language_info": {
   "codemirror_mode": {
    "name": "ipython",
    "version": 3
   },
   "file_extension": ".py",
   "mimetype": "text/x-python",
   "name": "python",
   "nbconvert_exporter": "python",
   "pygments_lexer": "ipython3",
   "version": "3.12.3"
  }
 },
 "nbformat": 4,
 "nbformat_minor": 5
}
