{
 "cells": [
  {
   "cell_type": "markdown",
   "id": "4678d02c-897c-4bb0-9004-645b9987c02d",
   "metadata": {},
   "source": [
    "# **<ins>1 Quadratic equation</ins>**\n"
   ]
  },
  {
   "cell_type": "markdown",
   "id": "cda995ec-d1b4-45f0-aec0-55d8377c0834",
   "metadata": {},
   "source": [
    "## **introduction**\n",
    "\n"
   ]
  },
  {
   "cell_type": "markdown",
   "id": "5b4fd353-0384-45dd-b324-86790084a4aa",
   "metadata": {},
   "source": [
    "![](https://upload.wikimedia.org/wikipedia/commons/thumb/f/f8/Polynomialdeg2.svg/450px-Polynomialdeg2.svg.png)"
   ]
  },
  {
   "cell_type": "markdown",
   "id": "cd207c34-5b54-4c59-b7ce-2d7a4e5feed1",
   "metadata": {},
   "source": [
    "(*Image from the [Wikipedia page on Quadratic equations](https://en.wikipedia.org/wiki/Quadratic_equation)*)"
   ]
  },
  {
   "cell_type": "markdown",
   "id": "6664e722-a9f7-465b-aa23-76b86a9bbeba",
   "metadata": {},
   "source": [
    "The general form of a quadratic equation is:\n",
    "$$ax^{2} + bx + c = 0$$"
   ]
  },
  {
   "cell_type": "markdown",
   "id": "bc74a2c3-8f64-4c11-8e9a-212d4aa97e1b",
   "metadata": {},
   "source": [
    "## **Solutions**"
   ]
  },
  {
   "cell_type": "markdown",
   "id": "aefbb1af-44e4-4b9e-a5d2-e71a39c50d9c",
   "metadata": {},
   "source": [
    "Provided $a \\ne 0$,  we can use an elementary algebraic method called [completing the square](https://en.wikipedia.org/wiki/Completing_the_square) to show that a quadratic equation has the following solution:\n"
   ]
  },
  {
   "cell_type": "markdown",
   "id": "4ffc83d7-5bea-4975-a2b0-a90521a063be",
   "metadata": {},
   "source": [
    "$$\n",
    "x = \\dfrac{-b \\pm \\sqrt{b^2 -4ac}}{2a}\n",
    "$$"
   ]
  },
  {
   "cell_type": "markdown",
   "id": "4baf5f8e-1079-4673-a67a-7c014169a6cc",
   "metadata": {},
   "source": [
    "## **Discriminant**"
   ]
  },
  {
   "cell_type": "markdown",
   "id": "8f29aa2a-dc90-4c57-bbb2-0e862101035c",
   "metadata": {},
   "source": [
    "The quantity $\\Delta = b^2 - 4ac$ is called the **discriminant** of the equation and decides the nature of its solutions. The table below shows the various possibilities."
   ]
  },
  {
   "cell_type": "markdown",
   "id": "1f0b51b9-0c11-46e6-9c16-40eaf50a93a7",
   "metadata": {},
   "source": [
    "|**Discriminant**|**Roots**|\n",
    "|---|:---|\n",
    "|$\\Delta = b^2 - 4ac = 0$   |A single solution of -b/(2a)|\n",
    "|$\\Delta = b^2 - 4ac \\gt 0$   |Two distinct solutions   |\n",
    "|$\\Delta = b^2 - 4ac \\lt 0$   |\tNo real solutions; both are complex.|"
   ]
  },
  {
   "cell_type": "markdown",
   "id": "3847154a-62a3-4084-a54e-7b2a5c3f8849",
   "metadata": {},
   "source": []
  },
  {
   "cell_type": "code",
   "execution_count": null,
   "id": "396e22c5-8807-4a0f-9040-aaf90111027a",
   "metadata": {},
   "outputs": [],
   "source": []
  }
 ],
 "metadata": {
  "kernelspec": {
   "display_name": "Python 3 (ipykernel)",
   "language": "python",
   "name": "python3"
  },
  "language_info": {
   "codemirror_mode": {
    "name": "ipython",
    "version": 3
   },
   "file_extension": ".py",
   "mimetype": "text/x-python",
   "name": "python",
   "nbconvert_exporter": "python",
   "pygments_lexer": "ipython3",
   "version": "3.12.3"
  }
 },
 "nbformat": 4,
 "nbformat_minor": 5
}
