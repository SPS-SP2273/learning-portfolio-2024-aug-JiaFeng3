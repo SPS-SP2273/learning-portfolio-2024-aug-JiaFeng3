{
 "cells": [
  {
   "cell_type": "markdown",
   "id": "d76d233e-18eb-45b7-90b0-dfb7013a1ddf",
   "metadata": {},
   "source": [
    "Git repository is a file that stores our project. In that project, there are saved files containing codes that we write pertaining to that project.\n",
    "\n",
    "Git keeps track of changes in the files in our repository\n",
    "\n",
    "A commit is a saving mechanism that saves the changes we have made to the files inside our jupyter notebook or desktop.\n",
    "\n",
    "A push is a mechanism to overwrite the existing file in github.com with our new file that we have made changes and have committed on our jupyter notbook on our desktop, such that the new file will be saved and reflected on github.com.\n",
    "\n",
    "A pull is a mechanism to overwrite the existing file in our juypter notebook on our desktop with our new file that we have made changes on github.com and have committed, such that the new file will be saved and reflected on our desktop juypter notebook.\n",
    "\n",
    "GitHub is a online website that stores our project while Github Desktop is a desktop application that stores our project on our desktop. This means that we can access the files in Github with any device with internet connection but we can access the files on Github Desktop on specific devices. This also means that Github is crucial for project collaboration so that individuals in a team can make changes to the files separately, which cannot be done on Github Desktop. "
   ]
  },
  {
   "cell_type": "code",
   "execution_count": null,
   "id": "a28850ce-1559-45e1-af01-263e3d0daadb",
   "metadata": {},
   "outputs": [],
   "source": []
  },
  {
   "cell_type": "markdown",
   "id": "47729fca-4c0c-48e0-853e-cf0fa3346b9d",
   "metadata": {},
   "source": [
    "$$\n",
    "\\mu = \\dfrac{1}{n} \\sum_{i=1}^{n} x_i\n",
    "$$"
   ]
  },
  {
   "cell_type": "markdown",
   "id": "268b58d4-cb10-4916-9078-f333de5f0725",
   "metadata": {},
   "source": [
    "$$\n",
    "\\sigma = \\sqrt{\\dfrac{1}{n} \\sum_{i=1}^{n} (x_i - \\mu)^2}\n",
    "$$"
   ]
  },
  {
   "cell_type": "markdown",
   "id": "cf5957dd-8b7c-4340-81ca-40643f6a2b37",
   "metadata": {},
   "source": [
    "$$\n",
    "r = \\dfrac{\\sum_{i=1}^{n} (x_i - \\mu_X)(y_i - \\mu_Y)}{\\sqrt{\\sum_{i=1}^{n}(x_i - \\mu_X)^2 \\sum_{i=1}^{n}(y_i - \\mu_Y)^2}}\n",
    "$$"
   ]
  }
 ],
 "metadata": {
  "kernelspec": {
   "display_name": "Python 3 (ipykernel)",
   "language": "python",
   "name": "python3"
  },
  "language_info": {
   "codemirror_mode": {
    "name": "ipython",
    "version": 3
   },
   "file_extension": ".py",
   "mimetype": "text/x-python",
   "name": "python",
   "nbconvert_exporter": "python",
   "pygments_lexer": "ipython3",
   "version": "3.12.3"
  }
 },
 "nbformat": 4,
 "nbformat_minor": 5
}
