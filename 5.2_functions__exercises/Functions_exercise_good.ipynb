{
 "cells": [
  {
   "cell_type": "code",
   "execution_count": 3,
   "id": "b05a4603-3e6a-40e8-a8c4-4fe21b4c024c",
   "metadata": {},
   "outputs": [],
   "source": [
    "def convert_celsius(temperature_celsius,target_scale='farenheit'):\n",
    "    K = temperature_celsius + 273.15\n",
    "    F = temperature_celsius*1.8 +32\n",
    "    TARGET = target_scale.upper()\n",
    "    if TARGET == 'KELVIN':\n",
    "        print (f'{K}K')\n",
    "    else:\n",
    "        print(f'{F}\\xb0F')\n",
    "    "
   ]
  },
  {
   "cell_type": "code",
   "execution_count": 4,
   "id": "d1b262fc-7b98-40a2-84fb-101b9dac4ed0",
   "metadata": {},
   "outputs": [
    {
     "name": "stdout",
     "output_type": "stream",
     "text": [
      "277.15K\n"
     ]
    }
   ],
   "source": [
    "convert_celsius(4,'keLVin')"
   ]
  },
  {
   "cell_type": "code",
   "execution_count": null,
   "id": "c2ee8fd7-dea2-4372-b699-cab3cb252b37",
   "metadata": {},
   "outputs": [],
   "source": []
  },
  {
   "cell_type": "code",
   "execution_count": 8,
   "id": "bd684f05-00e3-43c4-a0b2-cad1e45a5485",
   "metadata": {},
   "outputs": [],
   "source": [
    "def convert_fahrenheit(temperature_fahrenheit,target_scale='Celsius'):\n",
    "    C = (temperature_fahrenheit - 32)* (5/9)\n",
    "    Kel = C + 273.15\n",
    "    Target = target_scale.upper()\n",
    "    if Target == 'KELVIN':\n",
    "        print(f'{Kel}K')\n",
    "    else:\n",
    "        print(f'{C}\\xb0C')"
   ]
  },
  {
   "cell_type": "code",
   "execution_count": 9,
   "id": "ea660c88-096a-498c-8c12-c441daed772c",
   "metadata": {},
   "outputs": [
    {
     "name": "stdout",
     "output_type": "stream",
     "text": [
      "266.4833333333333K\n"
     ]
    }
   ],
   "source": [
    "convert_fahrenheit(20,'KeLVin')"
   ]
  },
  {
   "cell_type": "code",
   "execution_count": null,
   "id": "47141ea0-6921-485a-8e5f-8471343e06dd",
   "metadata": {},
   "outputs": [],
   "source": []
  },
  {
   "cell_type": "code",
   "execution_count": 10,
   "id": "d22d423d-7617-4906-8694-e93b5d94212e",
   "metadata": {},
   "outputs": [],
   "source": [
    "def convert_kelvin(temperature_kelvin,target_scale='Celsius'):\n",
    "    Ce = temperature_kelvin - 273.15\n",
    "    Fa = Ce*1.8 + 32\n",
    "    TArget = target_scale.upper()\n",
    "    if TArget == 'FAHRENHEIT':\n",
    "        print(f'{Fa}\\xb0F')\n",
    "    else:\n",
    "        print(f'{Ce}\\xb0C')"
   ]
  },
  {
   "cell_type": "code",
   "execution_count": 11,
   "id": "a7a36f73-e5c4-43ba-b0c7-863f1d54e7a6",
   "metadata": {},
   "outputs": [
    {
     "name": "stdout",
     "output_type": "stream",
     "text": [
      "-423.66999999999996°F\n"
     ]
    }
   ],
   "source": [
    "convert_kelvin(20,'Fahrenheit')"
   ]
  },
  {
   "cell_type": "code",
   "execution_count": 49,
   "id": "0bce2b10-508c-476e-a89a-dbde5e2ecd0e",
   "metadata": {},
   "outputs": [],
   "source": [
    "def convert_temperature(temperature,source_scale,target_scale):\n",
    "    Source = source_scale.upper()\n",
    "    TARget = target_scale.upper()\n",
    "    if Source == TARget:\n",
    "        return temperature\n",
    "    elif Source == 'CELSIUS':\n",
    "        convert_celsius(temperature,TARget)\n",
    "    elif Source == 'FAHRENHEIT':\n",
    "        convert_fahrenheit(temperature,TARget)\n",
    "    elif Source == 'KELVIN':\n",
    "        convert_kelvin(temperature,TARget)"
   ]
  },
  {
   "cell_type": "code",
   "execution_count": 54,
   "id": "153faf3f-ede0-4fc4-9eed-a2178b89540d",
   "metadata": {},
   "outputs": [
    {
     "name": "stdout",
     "output_type": "stream",
     "text": [
      "293.15K\n"
     ]
    }
   ],
   "source": [
    "convert_temperature(20,'Celsius','KeLvin')"
   ]
  },
  {
   "cell_type": "code",
   "execution_count": null,
   "id": "601befd0-624b-48d8-8fb1-4a04378ea5c6",
   "metadata": {},
   "outputs": [],
   "source": []
  }
 ],
 "metadata": {
  "kernelspec": {
   "display_name": "Python 3 (ipykernel)",
   "language": "python",
   "name": "python3"
  },
  "language_info": {
   "codemirror_mode": {
    "name": "ipython",
    "version": 3
   },
   "file_extension": ".py",
   "mimetype": "text/x-python",
   "name": "python",
   "nbconvert_exporter": "python",
   "pygments_lexer": "ipython3",
   "version": "3.12.3"
  }
 },
 "nbformat": 4,
 "nbformat_minor": 5
}
