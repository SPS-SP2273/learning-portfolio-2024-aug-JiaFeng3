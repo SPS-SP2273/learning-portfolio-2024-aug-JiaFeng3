{
 "cells": [
  {
   "cell_type": "code",
   "execution_count": 147,
   "id": "b05a4603-3e6a-40e8-a8c4-4fe21b4c024c",
   "metadata": {},
   "outputs": [],
   "source": [
    "def convert_celsius(temperature_celsius,target_scale='farenheit'):\n",
    "    K = temperature_celsius + 273.15\n",
    "    F = temperature_celsius*1.8 +32\n",
    "    TARGET = target_scale.upper()\n",
    "    if TARGET == 'KELVIN':\n",
    "        print (f'{K}K')\n",
    "    else:\n",
    "        print(f'{F}\\xb0F')\n",
    "    "
   ]
  },
  {
   "cell_type": "code",
   "execution_count": 154,
   "id": "d1b262fc-7b98-40a2-84fb-101b9dac4ed0",
   "metadata": {},
   "outputs": [
    {
     "name": "stdout",
     "output_type": "stream",
     "text": [
      "277.15K\n"
     ]
    }
   ],
   "source": [
    "convert_celsius(4,'keLVin')"
   ]
  },
  {
   "cell_type": "code",
   "execution_count": null,
   "id": "c2ee8fd7-dea2-4372-b699-cab3cb252b37",
   "metadata": {},
   "outputs": [],
   "source": []
  },
  {
   "cell_type": "code",
   "execution_count": null,
   "id": "bd684f05-00e3-43c4-a0b2-cad1e45a5485",
   "metadata": {},
   "outputs": [],
   "source": [
    "def convert_fahrenheit(temperature_fahrenheit,target_scale='Celsius'):\n",
    "    "
   ]
  }
 ],
 "metadata": {
  "kernelspec": {
   "display_name": "Python 3 (ipykernel)",
   "language": "python",
   "name": "python3"
  },
  "language_info": {
   "codemirror_mode": {
    "name": "ipython",
    "version": 3
   },
   "file_extension": ".py",
   "mimetype": "text/x-python",
   "name": "python",
   "nbconvert_exporter": "python",
   "pygments_lexer": "ipython3",
   "version": "3.12.3"
  }
 },
 "nbformat": 4,
 "nbformat_minor": 5
}
