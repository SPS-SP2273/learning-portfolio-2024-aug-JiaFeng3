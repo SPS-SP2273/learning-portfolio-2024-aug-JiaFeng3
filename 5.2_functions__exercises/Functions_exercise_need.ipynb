{
 "cells": [
  {
   "cell_type": "code",
   "execution_count": 98,
   "id": "937e34a4-a7f7-4988-a6b8-796edb6435c8",
   "metadata": {},
   "outputs": [],
   "source": [
    "def greeting(name):\n",
    "    if name == 'Batman':\n",
    "        return 'Hello Batman! So, nice to meet you!'\n",
    "    return f'Hello {name}!'"
   ]
  },
  {
   "cell_type": "markdown",
   "id": "1b09adc0-a44e-4b97-93da-8459ff9821f1",
   "metadata": {},
   "source": [
    "Bceause if the input is not 'Batman', the if function will not give any output. Then the return function will then return the value f'Hello {name}!' for situations where ther name is not 'Batman'."
   ]
  },
  {
   "cell_type": "code",
   "execution_count": null,
   "id": "d6c0a16d-c95e-43c9-9352-6ecd436d1890",
   "metadata": {},
   "outputs": [],
   "source": []
  },
  {
   "cell_type": "code",
   "execution_count": 88,
   "id": "4362309d-9114-4599-930d-52f2d6baaf37",
   "metadata": {},
   "outputs": [],
   "source": [
    "def calculate_bmi(weight,height):\n",
    "    BMI = weight/(height**2)\n",
    "    if BMI < 18.5:\n",
    "        return 'Underweight'\n",
    "    elif 18.5<=BMI<=24.9:\n",
    "        return 'Normal weight'\n",
    "    elif 25<=BMI<=29.9:\n",
    "         return 'Overweight'\n",
    "    elif BMI>30:\n",
    "         return 'Obese'\n",
    "    "
   ]
  },
  {
   "cell_type": "code",
   "execution_count": 93,
   "id": "147eace4-40ea-4f33-9b2c-9aaab780e179",
   "metadata": {},
   "outputs": [
    {
     "data": {
      "text/plain": [
       "'Underweight'"
      ]
     },
     "execution_count": 93,
     "metadata": {},
     "output_type": "execute_result"
    }
   ],
   "source": [
    "calculate_bmi(31,1.5)"
   ]
  },
  {
   "cell_type": "code",
   "execution_count": null,
   "id": "c1625ba5-9a3b-4ba8-9523-22a2c3721f24",
   "metadata": {},
   "outputs": [],
   "source": []
  },
  {
   "cell_type": "code",
   "execution_count": 3,
   "id": "fa8b1a44-b9db-4f5d-9f00-9893b0d163d3",
   "metadata": {},
   "outputs": [],
   "source": [
    "def factorial(n):\n",
    "    r = 1\n",
    "    while n>0:\n",
    "        for number in range(1,n+1):\n",
    "            r = r*number\n",
    "        return r\n",
    "    if n<0:\n",
    "        print('Please input a positive number')\n",
    "    else:\n",
    "        return 1"
   ]
  },
  {
   "cell_type": "code",
   "execution_count": 4,
   "id": "a727d20d-9494-442d-a815-745b91035c50",
   "metadata": {},
   "outputs": [
    {
     "data": {
      "text/plain": [
       "720"
      ]
     },
     "execution_count": 4,
     "metadata": {},
     "output_type": "execute_result"
    }
   ],
   "source": [
    "factorial(6)"
   ]
  },
  {
   "cell_type": "code",
   "execution_count": null,
   "id": "87673a76-f170-4281-b80c-c891bbd963d4",
   "metadata": {},
   "outputs": [],
   "source": []
  }
 ],
 "metadata": {
  "kernelspec": {
   "display_name": "Python 3 (ipykernel)",
   "language": "python",
   "name": "python3"
  },
  "language_info": {
   "codemirror_mode": {
    "name": "ipython",
    "version": 3
   },
   "file_extension": ".py",
   "mimetype": "text/x-python",
   "name": "python",
   "nbconvert_exporter": "python",
   "pygments_lexer": "ipython3",
   "version": "3.12.3"
  }
 },
 "nbformat": 4,
 "nbformat_minor": 5
}
