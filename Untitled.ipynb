{
 "cells": [
  {
   "cell_type": "code",
   "execution_count": 5,
   "id": "4a906ed2-2529-4076-9d5e-38314ad73f13",
   "metadata": {},
   "outputs": [],
   "source": [
    "from sympy import *\n",
    "import numpy as np\n",
    "x = Symbol('x')\n",
    "y = x**3 + x**2 + 1\n",
    "yprime = y.diff(x)"
   ]
  },
  {
   "cell_type": "code",
   "execution_count": 7,
   "id": "ac51ce9b-4f61-45c8-ba3e-5808564e9071",
   "metadata": {},
   "outputs": [],
   "source": [
    "import sympy as sp"
   ]
  },
  {
   "cell_type": "code",
   "execution_count": 1,
   "id": "0c7fba59-b6b8-424e-8431-d59a74763f3f",
   "metadata": {},
   "outputs": [
    {
     "name": "stdout",
     "output_type": "stream",
     "text": [
      "Requirement already satisfied: pip in c:\\users\\tanji\\onedrive\\documents\\anaconda\\lib\\site-packages (24.2)\n",
      "Note: you may need to restart the kernel to use updated packages.\n",
      "Requirement already satisfied: sympy in c:\\users\\tanji\\onedrive\\documents\\anaconda\\lib\\site-packages (1.13.2)\n",
      "Requirement already satisfied: mpmath<1.4,>=1.1.0 in c:\\users\\tanji\\onedrive\\documents\\anaconda\\lib\\site-packages (from sympy) (1.3.0)\n",
      "Note: you may need to restart the kernel to use updated packages.\n"
     ]
    }
   ],
   "source": [
    "%pip install --upgrade pip\n",
    "%pip install sympy \n",
    "import sympy as sp"
   ]
  },
  {
   "cell_type": "code",
   "execution_count": 6,
   "id": "d2f2847c-724e-4b31-a604-d8cb95e76b93",
   "metadata": {},
   "outputs": [
    {
     "data": {
      "text/latex": [
       "$\\displaystyle 3 x^{2} + 2 x$"
      ],
      "text/plain": [
       "3*x**2 + 2*x"
      ]
     },
     "execution_count": 6,
     "metadata": {},
     "output_type": "execute_result"
    }
   ],
   "source": [
    "yprime"
   ]
  },
  {
   "cell_type": "code",
   "execution_count": 7,
   "id": "71bb454d-31aa-433d-9967-fd05eea58000",
   "metadata": {},
   "outputs": [],
   "source": [
    "f = lambdify(x, yprime, 'numpy')"
   ]
  },
  {
   "cell_type": "code",
   "execution_count": 8,
   "id": "5623af14-0646-4c1b-bf3f-2391dd81bb9d",
   "metadata": {},
   "outputs": [
    {
     "data": {
      "text/plain": [
       "array([5., 5., 5., 5., 5.])"
      ]
     },
     "execution_count": 8,
     "metadata": {},
     "output_type": "execute_result"
    }
   ],
   "source": [
    "f(np.ones(5))"
   ]
  },
  {
   "cell_type": "code",
   "execution_count": 66,
   "id": "370d52ad-e889-4958-93d9-8a49add98ea1",
   "metadata": {},
   "outputs": [],
   "source": [
    "x = Symbol('x')\n",
    "def dif(a):\n",
    "    aprime = a.diff(x)\n",
    "    return aprime\n"
   ]
  },
  {
   "cell_type": "code",
   "execution_count": 67,
   "id": "db6316c6-c849-4ebd-8944-69881d667fec",
   "metadata": {},
   "outputs": [
    {
     "data": {
      "text/latex": [
       "$\\displaystyle 6 x^{2} + 2 x$"
      ],
      "text/plain": [
       "6*x**2 + 2*x"
      ]
     },
     "execution_count": 67,
     "metadata": {},
     "output_type": "execute_result"
    }
   ],
   "source": [
    "c = 2*x**3 + x**2 + 1\n",
    "dif(c)"
   ]
  },
  {
   "cell_type": "code",
   "execution_count": 76,
   "id": "eb9ac0e8-e2ea-4131-b3ee-0ab4d58e889d",
   "metadata": {},
   "outputs": [],
   "source": [
    "def calc_Y(x):\n",
    "      Y = int(c)\n",
    "      return(Y)"
   ]
  },
  {
   "cell_type": "code",
   "execution_count": 77,
   "id": "b20febef-8201-4463-9c24-793eb072cfac",
   "metadata": {},
   "outputs": [
    {
     "ename": "TypeError",
     "evalue": "Cannot convert symbols to int",
     "output_type": "error",
     "traceback": [
      "\u001b[1;31m---------------------------------------------------------------------------\u001b[0m",
      "\u001b[1;31mTypeError\u001b[0m                                 Traceback (most recent call last)",
      "Cell \u001b[1;32mIn[77], line 1\u001b[0m\n\u001b[1;32m----> 1\u001b[0m \u001b[43mcalc_Y\u001b[49m\u001b[43m(\u001b[49m\u001b[38;5;241;43m3\u001b[39;49m\u001b[43m)\u001b[49m\n",
      "Cell \u001b[1;32mIn[76], line 2\u001b[0m, in \u001b[0;36mcalc_Y\u001b[1;34m(x)\u001b[0m\n\u001b[0;32m      1\u001b[0m \u001b[38;5;28;01mdef\u001b[39;00m \u001b[38;5;21mcalc_Y\u001b[39m(x):\n\u001b[1;32m----> 2\u001b[0m       Y \u001b[38;5;241m=\u001b[39m \u001b[38;5;28;43mint\u001b[39;49m\u001b[43m(\u001b[49m\u001b[43mc\u001b[49m\u001b[43m)\u001b[49m\n\u001b[0;32m      3\u001b[0m       \u001b[38;5;28;01mreturn\u001b[39;00m(Y)\n",
      "File \u001b[1;32m~\\OneDrive\\Documents\\anaconda\\Lib\\site-packages\\sympy\\core\\expr.py:307\u001b[0m, in \u001b[0;36mExpr.__int__\u001b[1;34m(self)\u001b[0m\n\u001b[0;32m    305\u001b[0m \u001b[38;5;28;01mdef\u001b[39;00m \u001b[38;5;21m__int__\u001b[39m(\u001b[38;5;28mself\u001b[39m):\n\u001b[0;32m    306\u001b[0m     \u001b[38;5;28;01mif\u001b[39;00m \u001b[38;5;129;01mnot\u001b[39;00m \u001b[38;5;28mself\u001b[39m\u001b[38;5;241m.\u001b[39mis_number:\n\u001b[1;32m--> 307\u001b[0m         \u001b[38;5;28;01mraise\u001b[39;00m \u001b[38;5;167;01mTypeError\u001b[39;00m(\u001b[38;5;124m\"\u001b[39m\u001b[38;5;124mCannot convert symbols to int\u001b[39m\u001b[38;5;124m\"\u001b[39m)\n\u001b[0;32m    308\u001b[0m     r \u001b[38;5;241m=\u001b[39m \u001b[38;5;28mself\u001b[39m\u001b[38;5;241m.\u001b[39mround(\u001b[38;5;241m2\u001b[39m)\n\u001b[0;32m    309\u001b[0m     \u001b[38;5;28;01mif\u001b[39;00m \u001b[38;5;129;01mnot\u001b[39;00m r\u001b[38;5;241m.\u001b[39mis_Number:\n",
      "\u001b[1;31mTypeError\u001b[0m: Cannot convert symbols to int"
     ]
    }
   ],
   "source": [
    "calc_Y(3)"
   ]
  },
  {
   "cell_type": "code",
   "execution_count": 79,
   "id": "0f9c490d-6eac-4b67-ac3a-ba889a74d428",
   "metadata": {},
   "outputs": [
    {
     "ename": "SyntaxError",
     "evalue": "invalid syntax (2855714781.py, line 1)",
     "output_type": "error",
     "traceback": [
      "\u001b[1;36m  Cell \u001b[1;32mIn[79], line 1\u001b[1;36m\u001b[0m\n\u001b[1;33m    int.(c)\u001b[0m\n\u001b[1;37m        ^\u001b[0m\n\u001b[1;31mSyntaxError\u001b[0m\u001b[1;31m:\u001b[0m invalid syntax\n"
     ]
    }
   ],
   "source": [
    "int.(c)"
   ]
  },
  {
   "cell_type": "code",
   "execution_count": null,
   "id": "5aaee67c-a1c2-4caf-a87b-9dc47809cb30",
   "metadata": {},
   "outputs": [],
   "source": []
  }
 ],
 "metadata": {
  "kernelspec": {
   "display_name": "Python 3 (ipykernel)",
   "language": "python",
   "name": "python3"
  },
  "language_info": {
   "codemirror_mode": {
    "name": "ipython",
    "version": 3
   },
   "file_extension": ".py",
   "mimetype": "text/x-python",
   "name": "python",
   "nbconvert_exporter": "python",
   "pygments_lexer": "ipython3",
   "version": "3.12.3"
  }
 },
 "nbformat": 4,
 "nbformat_minor": 5
}
