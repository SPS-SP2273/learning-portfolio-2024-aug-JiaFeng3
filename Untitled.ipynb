{
 "cells": [
  {
   "cell_type": "code",
   "execution_count": 3,
   "id": "5aaee67c-a1c2-4caf-a87b-9dc47809cb30",
   "metadata": {},
   "outputs": [
    {
     "name": "stdout",
     "output_type": "stream",
     "text": [
      "Requirement already satisfied: rdkit in c:\\users\\tanji\\miniconda3\\lib\\site-packages (2024.3.5)\n",
      "Requirement already satisfied: numpy in c:\\users\\tanji\\miniconda3\\lib\\site-packages (from rdkit) (2.1.1)\n",
      "Requirement already satisfied: Pillow in c:\\users\\tanji\\miniconda3\\lib\\site-packages (from rdkit) (10.4.0)\n"
     ]
    }
   ],
   "source": [
    "!pip install rdkit"
   ]
  },
  {
   "cell_type": "code",
   "execution_count": 4,
   "id": "12b8bd97-1ddd-4838-8600-5d8a2c32bed7",
   "metadata": {},
   "outputs": [
    {
     "name": "stdout",
     "output_type": "stream",
     "text": [
      "Collecting seaborn\n",
      "  Downloading seaborn-0.13.2-py3-none-any.whl.metadata (5.4 kB)\n",
      "Requirement already satisfied: numpy!=1.24.0,>=1.20 in c:\\users\\tanji\\miniconda3\\lib\\site-packages (from seaborn) (2.1.1)\n",
      "Collecting pandas>=1.2 (from seaborn)\n",
      "  Downloading pandas-2.2.3-cp312-cp312-win_amd64.whl.metadata (19 kB)\n",
      "Collecting matplotlib!=3.6.1,>=3.4 (from seaborn)\n",
      "  Downloading matplotlib-3.9.2-cp312-cp312-win_amd64.whl.metadata (11 kB)\n",
      "Collecting contourpy>=1.0.1 (from matplotlib!=3.6.1,>=3.4->seaborn)\n",
      "  Downloading contourpy-1.3.0-cp312-cp312-win_amd64.whl.metadata (5.4 kB)\n",
      "Collecting cycler>=0.10 (from matplotlib!=3.6.1,>=3.4->seaborn)\n",
      "  Downloading cycler-0.12.1-py3-none-any.whl.metadata (3.8 kB)\n",
      "Collecting fonttools>=4.22.0 (from matplotlib!=3.6.1,>=3.4->seaborn)\n",
      "  Downloading fonttools-4.54.1-cp312-cp312-win_amd64.whl.metadata (167 kB)\n",
      "Collecting kiwisolver>=1.3.1 (from matplotlib!=3.6.1,>=3.4->seaborn)\n",
      "  Downloading kiwisolver-1.4.7-cp312-cp312-win_amd64.whl.metadata (6.4 kB)\n",
      "Requirement already satisfied: packaging>=20.0 in c:\\users\\tanji\\miniconda3\\lib\\site-packages (from matplotlib!=3.6.1,>=3.4->seaborn) (24.1)\n",
      "Requirement already satisfied: pillow>=8 in c:\\users\\tanji\\miniconda3\\lib\\site-packages (from matplotlib!=3.6.1,>=3.4->seaborn) (10.4.0)\n",
      "Collecting pyparsing>=2.3.1 (from matplotlib!=3.6.1,>=3.4->seaborn)\n",
      "  Downloading pyparsing-3.1.4-py3-none-any.whl.metadata (5.1 kB)\n",
      "Requirement already satisfied: python-dateutil>=2.7 in c:\\users\\tanji\\miniconda3\\lib\\site-packages (from matplotlib!=3.6.1,>=3.4->seaborn) (2.9.0.post0)\n",
      "Requirement already satisfied: pytz>=2020.1 in c:\\users\\tanji\\miniconda3\\lib\\site-packages (from pandas>=1.2->seaborn) (2024.2)\n",
      "Collecting tzdata>=2022.7 (from pandas>=1.2->seaborn)\n",
      "  Downloading tzdata-2024.2-py2.py3-none-any.whl.metadata (1.4 kB)\n",
      "Requirement already satisfied: six>=1.5 in c:\\users\\tanji\\miniconda3\\lib\\site-packages (from python-dateutil>=2.7->matplotlib!=3.6.1,>=3.4->seaborn) (1.16.0)\n",
      "Downloading seaborn-0.13.2-py3-none-any.whl (294 kB)\n",
      "Downloading matplotlib-3.9.2-cp312-cp312-win_amd64.whl (7.8 MB)\n",
      "   ---------------------------------------- 0.0/7.8 MB ? eta -:--:--\n",
      "   -------- ------------------------------- 1.6/7.8 MB 7.0 MB/s eta 0:00:01\n",
      "   ------------------ --------------------- 3.7/7.8 MB 8.7 MB/s eta 0:00:01\n",
      "   ------------------------------ --------- 6.0/7.8 MB 9.7 MB/s eta 0:00:01\n",
      "   ---------------------------------------- 7.8/7.8 MB 10.3 MB/s eta 0:00:00\n",
      "Downloading pandas-2.2.3-cp312-cp312-win_amd64.whl (11.5 MB)\n",
      "   ---------------------------------------- 0.0/11.5 MB ? eta -:--:--\n",
      "   ------- -------------------------------- 2.1/11.5 MB 9.8 MB/s eta 0:00:01\n",
      "   ------------- -------------------------- 3.9/11.5 MB 10.2 MB/s eta 0:00:01\n",
      "   ------------------------ --------------- 7.1/11.5 MB 11.8 MB/s eta 0:00:01\n",
      "   -------------------------------- ------- 9.4/11.5 MB 11.5 MB/s eta 0:00:01\n",
      "   ---------------------------------------- 11.5/11.5 MB 11.2 MB/s eta 0:00:00\n",
      "Downloading contourpy-1.3.0-cp312-cp312-win_amd64.whl (218 kB)\n",
      "Downloading cycler-0.12.1-py3-none-any.whl (8.3 kB)\n",
      "Downloading fonttools-4.54.1-cp312-cp312-win_amd64.whl (2.2 MB)\n",
      "   ---------------------------------------- 0.0/2.2 MB ? eta -:--:--\n",
      "   ---------------------------------------- 2.2/2.2 MB 9.5 MB/s eta 0:00:00\n",
      "Downloading kiwisolver-1.4.7-cp312-cp312-win_amd64.whl (55 kB)\n",
      "Downloading pyparsing-3.1.4-py3-none-any.whl (104 kB)\n",
      "Downloading tzdata-2024.2-py2.py3-none-any.whl (346 kB)\n",
      "Installing collected packages: tzdata, pyparsing, kiwisolver, fonttools, cycler, contourpy, pandas, matplotlib, seaborn\n",
      "Successfully installed contourpy-1.3.0 cycler-0.12.1 fonttools-4.54.1 kiwisolver-1.4.7 matplotlib-3.9.2 pandas-2.2.3 pyparsing-3.1.4 seaborn-0.13.2 tzdata-2024.2\n"
     ]
    }
   ],
   "source": [
    "!pip install seaborn"
   ]
  },
  {
   "cell_type": "code",
   "execution_count": 6,
   "id": "564c0996-7df6-402e-b9c9-ca35195909a1",
   "metadata": {},
   "outputs": [],
   "source": [
    "from rdkit import Chem\n",
    "from rdkit.Chem import Draw"
   ]
  },
  {
   "cell_type": "code",
   "execution_count": 12,
   "id": "5bd94ec3-46d3-4495-b991-647c42e27ade",
   "metadata": {},
   "outputs": [],
   "source": [
    "M='CC(=O)OC1=CC=CC=C1C(=O)O'"
   ]
  },
  {
   "cell_type": "code",
   "execution_count": 101,
   "id": "98ec9e85-416f-4ae3-9051-0c28b7d5a4d0",
   "metadata": {},
   "outputs": [],
   "source": [
    "GG = Chem.MolFromSmiles(M)"
   ]
  },
  {
   "cell_type": "code",
   "execution_count": 102,
   "id": "5e7e78f5-98b4-4660-bb85-cff2dd8b15b5",
   "metadata": {},
   "outputs": [
    {
     "data": {
      "text/plain": [
       "((1, 2), (10, 11))"
      ]
     },
     "execution_count": 102,
     "metadata": {},
     "output_type": "execute_result"
    }
   ],
   "source": [
    "Pattern = Chem.MolFromSmarts('C=O')\n",
    "GG.GetSubstructMatches(Pattern)"
   ]
  },
  {
   "cell_type": "code",
   "execution_count": 15,
   "id": "ddc1f2a2-f0d7-4262-9f34-c6afc9ae9cf0",
   "metadata": {},
   "outputs": [],
   "source": [
    "import requests\n",
    "\n",
    "url = 'https://go.drugbank.com/structures/small_molecule_drugs/DB00316.mol'\n",
    "text = requests.get(url).text"
   ]
  },
  {
   "cell_type": "code",
   "execution_count": 18,
   "id": "a41f82cb-2bfa-4bdd-8ba7-d8479f2430dd",
   "metadata": {},
   "outputs": [],
   "source": [
    "K = Chem.MolFromMolBlock(text)"
   ]
  },
  {
   "cell_type": "code",
   "execution_count": 19,
   "id": "d1dcdb5a-4b89-4928-8778-6158fb233168",
   "metadata": {},
   "outputs": [
    {
     "data": {
      "text/plain": [
       "11"
      ]
     },
     "execution_count": 19,
     "metadata": {},
     "output_type": "execute_result"
    }
   ],
   "source": [
    "K.GetNumAtoms()"
   ]
  },
  {
   "cell_type": "code",
   "execution_count": 20,
   "id": "1fd5694c-cb26-4d9a-a725-7f7910e33b9c",
   "metadata": {},
   "outputs": [],
   "source": [
    "Url = 'https://go.drugbank.com/structures/small_molecule_drugs/DB00145.smiles'\n",
    "txt = requests.get(Url).text"
   ]
  },
  {
   "cell_type": "code",
   "execution_count": 26,
   "id": "836f31d1-6500-44a1-92a7-5c350ad1fdd8",
   "metadata": {},
   "outputs": [],
   "source": [
    "P = Chem.MolFromSmiles(txt)"
   ]
  },
  {
   "cell_type": "code",
   "execution_count": 24,
   "id": "e6112c0f-93dc-4ed4-aae9-cceb0e1a4107",
   "metadata": {},
   "outputs": [],
   "source": [
    "from rdkit.Chem import AllChem"
   ]
  },
  {
   "cell_type": "code",
   "execution_count": 43,
   "id": "925bb870-821b-4561-a92e-6c8cffdd36cc",
   "metadata": {},
   "outputs": [],
   "source": [
    "C = Chem.AddHs(P)"
   ]
  },
  {
   "cell_type": "code",
   "execution_count": 31,
   "id": "8bddbe75-c0e1-41a7-a82a-677227da7f91",
   "metadata": {},
   "outputs": [],
   "source": [
    "G = Chem.AddHs(K)"
   ]
  },
  {
   "cell_type": "code",
   "execution_count": 39,
   "id": "8cd20ceb-fe69-4abe-ac10-a99f379b77d0",
   "metadata": {},
   "outputs": [
    {
     "data": {
      "image/png": "[encoded data removed]",
      "text/plain": [
       "<rdkit.Chem.rdchem.Mol at 0x172ebd52030>"
      ]
     },
     "execution_count": 39,
     "metadata": {},
     "output_type": "execute_result"
    }
   ],
   "source": [
    "AllChem.Compute2DCoords(G)\n",
    "G"
   ]
  },
  {
   "cell_type": "raw",
   "id": "c1323556-a04a-49dc-8564-b30f58d18dda",
   "metadata": {},
   "source": []
  },
  {
   "cell_type": "code",
   "execution_count": 40,
   "id": "c6ec07b0-e5b9-4820-97bc-c92390ac651b",
   "metadata": {},
   "outputs": [],
   "source": [
    "from rdkit.Chem import Descriptors "
   ]
  },
  {
   "cell_type": "code",
   "execution_count": 46,
   "id": "1164f0a3-e947-4d9b-ab6a-58b18dbc0db1",
   "metadata": {},
   "outputs": [
    {
     "data": {
      "text/plain": [
       "75.06699999999998"
      ]
     },
     "execution_count": 46,
     "metadata": {},
     "output_type": "execute_result"
    }
   ],
   "source": [
    "Descriptors.MolWt(C)"
   ]
  },
  {
   "cell_type": "code",
   "execution_count": 48,
   "id": "250d3dbe-5cb9-474c-b385-4c545cb76e2d",
   "metadata": {},
   "outputs": [
    {
     "data": {
      "image/jpeg": "[encoded data removed]",
      "image/png": "[encoded data removed]",
      "text/plain": [
       "<PIL.PngImagePlugin.PngImageFile image mode=RGB size=300x300>"
      ]
     },
     "execution_count": 48,
     "metadata": {},
     "output_type": "execute_result"
    }
   ],
   "source": [
    "Draw.MolToImage(G)"
   ]
  },
  {
   "cell_type": "code",
   "execution_count": 143,
   "id": "8fcea1c5-762f-4b18-8cf2-a1c226ad0820",
   "metadata": {},
   "outputs": [
    {
     "name": "stdout",
     "output_type": "stream",
     "text": [
      "[]\n"
     ]
    },
    {
     "data": {
      "image/jpeg": "[encoded data removed]",
      "image/png": "[encoded data removed]",
      "text/plain": [
       "<PIL.PngImagePlugin.PngImageFile image mode=RGB size=300x300>"
      ]
     },
     "execution_count": 143,
     "metadata": {},
     "output_type": "execute_result"
    }
   ],
   "source": [
    "from rdkit import Chem\n",
    "\n",
    "def find_smiles_patterns(smiles):\n",
    "    mol = Chem.MolFromSmiles(smiles)\n",
    "    if mol is None:\n",
    "        return \"Invalid SMILES string. Unable to parse molecule.\"\n",
    "\n",
    "    # Define a list to store the chemical groups found in the SMILES\n",
    "    chemical_groups = []\n",
    "\n",
    "    # SMARTS patterns to recognize chemical groups\n",
    "    smarts_patterns = {\n",
    "        'C=C': 'Alkene',\n",
    "    '[CX2]#[CX2]': 'Alkyne',\n",
    "    '[CX3]=[CX2]=[CX3]': 'Allene',\n",
    "    '[ClX1][CX4]': 'Alkylchloride',\n",
    "    '[FX1][CX4]': 'Alkylfluoride',\n",
    "    '[BrX1][CX4]': 'Alkylbromide',\n",
    "    '[IX1][CX4]': 'Alkyliodide',\n",
    "    '[OX2H][CX4H2;!$(C([OX2H])[O,S,#7,#15])]': 'Primary_alcohol',\n",
    "    '[OX2H][CX4H;!$(C([OX2H])[O,S,#7,#15])]': 'Secondary_alcohol',\n",
    "    '[OX2H][CX4D4;!$(C([OX2H])[O,S,#7,#15])]': 'Tertiary_alcohol',\n",
    "    '[OX2]([CX4;!$(C([OX2])[O,S,#7,#15,F,Cl,Br,I])])[CX4;!$(C([OX2])[O,S,#7,#15])]': 'Dialkylether',\n",
    "    '[SX2]([CX4;!$(C([OX2])[O,S,#7,#15,F,Cl,Br,I])])[CX4;!$(C([OX2])[O,S,#7,#15])]': 'Dialkylthioether',\n",
    "    '[OX2](c)[CX4;!$(C([OX2])[O,S,#7,#15,F,Cl,Br,I])]': 'Alkylarylether',\n",
    "    '[c][OX2][c]': 'Diarylether',\n",
    "    '[SX2](c)[CX4;!$(C([OX2])[O,S,#7,#15,F,Cl,Br,I])]': 'Alkylarylthioether',\n",
    "    '[c][SX2][c]': 'Diarylthioether',\n",
    "    '[O+;!$([O]~[!#6]);!$([S]*~[#7,#8,#15,#16])]': 'Oxonium',\n",
    "    '[NX3H2+0,NX4H3+;!$([N][!C]);!$([N]*~[#7,#8,#15,#16])]': 'Primary_aliph_amine',\n",
    "    '[NX3H1+0,NX4H2+;!$([N][!C]);!$([N]*~[#7,#8,#15,#16])]': 'Secondary_aliph_amine',\n",
    "    '[NX3H0+0,NX4H1+;!$([N][!C]);!$([N]*~[#7,#8,#15,#16])]': 'Tertiary_aliph_amine',\n",
    "    '[NX4H0+;!$([N][!C]);!$([N]*~[#7,#8,#15,#16])]': 'Quaternary_aliph_ammonium',\n",
    "    '[!#6;!R0]': 'Heterocyclic'\n",
    "    #etc....\n",
    "    }\n",
    "\n",
    "    # Define priority order for chemical groups based on IUPAC nomenclature\n",
    "    priority_order = [\n",
    "    'Carboxylic_acid',\n",
    "    'Carboxylic_ester',\n",
    "    'Lactone',\n",
    "    'Carboxylic_anhydride',\n",
    "    'Carbothioic_acid',\n",
    "    'Aldehyde',\n",
    "    'Ketone',\n",
    "    'Alkylchloride',\n",
    "    'Alkylfluoride',\n",
    "    'Alkylbromide',\n",
    "    'Alkyliodide',\n",
    "    'Alcohol',\n",
    "    'Primary_alcohol',\n",
    "    'Secondary_alcohol',\n",
    "    'Tertiary_alcohol',\n",
    "    'Dialkylether',\n",
    "    'Alkene',\n",
    "    'Alkyne',\n",
    "    'Allene',\n",
    "    'Dialkylthioether',\n",
    "    'Alkylarylether',\n",
    "    'Diarylether',\n",
    "    'Alkylarylthioether',\n",
    "    'Diarylthioether',\n",
    "    'Oxonium',\n",
    "    'Primary_aliph_amine',\n",
    "    'Secondary_aliph_amine',\n",
    "    'Tertiary_aliph_amine',\n",
    "    'Quaternary_aliph_ammonium',\n",
    "    'Heterocycle'\n",
    "    #etc......\n",
    "    ]\n",
    "\n",
    "\n",
    "    # Track the atom indices to avoid duplicates\n",
    "    atom_indices = set()\n",
    "    \n",
    "    # Iterate over the priority order and check if each chemical group is present in the molecule\n",
    "    for group in priority_order:\n",
    "        if group in smarts_patterns.values():\n",
    "            for smarts_pattern, chemical_group in smarts_patterns.items():\n",
    "                if chemical_group == group:\n",
    "                    pattern = Chem.MolFromSmarts(smarts_pattern)\n",
    "                    if pattern:\n",
    "                        \n",
    "                        matches = mol.GetSubstructMatches(pattern)\n",
    "                        \n",
    "                        if len(matches) > 0:\n",
    "                            \n",
    "                            print('matches !!! : ', smarts_pattern , smarts_patterns[smarts_pattern], pattern)\n",
    "                            \n",
    "                            print(matches,'\\n\\n')\n",
    "                            \n",
    "                            for match in matches:\n",
    "                                match_set = set(match)\n",
    "                                if not any(atom_index in match_set for atom_index in atom_indices):\n",
    "                                    chemical_groups.append(chemical_group)\n",
    "                                    atom_indices.update(match_set)\n",
    "\n",
    "    return chemical_groups\n",
    "\n",
    "\n",
    "\n",
    "smiles = \"c1(cccc2c1ccc1c2cccc1CCl)CO\"\n",
    "\n",
    "print(find_smiles_patterns('[H]N([C@@H](CC(O)=O)C(O)=O)C(=O)CP(O)(O)=O'))\n",
    "Draw.MolToImage(mol)"
   ]
  },
  {
   "cell_type": "code",
   "execution_count": 7,
   "id": "7a7175da-b0e1-4f5f-a581-c9005b14f948",
   "metadata": {},
   "outputs": [
    {
     "name": "stdout",
     "output_type": "stream",
     "text": [
      "matches !!! : \n",
      "((2, 1, 3),) \n",
      "\n",
      "\n",
      "['amide']\n"
     ]
    }
   ],
   "source": [
    "from rdkit import Chem\n",
    "\n",
    "def find_smiles_patterns(smiles):\n",
    "    mol = Chem.MolFromSmiles(smiles) \n",
    "    if mol is None:\n",
    "        return \"Invalid SMILES string. Unable to parse molecule.\"\n",
    "\n",
    "    # Define a list to store the chemical groups found in the SMILES\n",
    "    chemical_groups = []\n",
    "\n",
    "    # SMARTS patterns to recognize chemical groups\n",
    "    smarts_patterns = {\n",
    "        'C=C': 'Alkene',\n",
    "        'C#C': 'Alkyne',\n",
    "        'C(=O)O': 'carboxylic acid',\n",
    "        'C(=O)OC': 'Ester',\n",
    "        'O=C[NH]': 'amide'\n",
    "    \n",
    "    #etc....\n",
    "    }\n",
    "\n",
    "    # Define priority order for chemical groups based on IUPAC nomenclature\n",
    "    priority_order = [\n",
    "    'Ester',\n",
    "    'carboxylic acid',\n",
    "    'amide',\n",
    "    'Alkene',\n",
    "    \"Alkyne\"\n",
    "    #etc......\n",
    "    ]\n",
    "\n",
    "\n",
    "    # Track the atom indices to avoid duplicates\n",
    "    atom_indices = set()\n",
    "    \n",
    "    # Iterate over the priority order and check if each chemical group is present in the molecule\n",
    "    for group in priority_order:\n",
    "        if group in smarts_patterns.values():\n",
    "            for smarts_pattern, chemical_group in smarts_patterns.items():\n",
    "                if chemical_group == group:\n",
    "                    pattern = Chem.MolFromSmarts(smarts_pattern)\n",
    "                    if pattern:\n",
    "                        \n",
    "                        matches = mol.GetSubstructMatches(pattern)\n",
    "        \n",
    "                        if len(matches) > 0:\n",
    "                            \n",
    "                            print('matches !!! : ')\n",
    "                            \n",
    "                            print(matches,'\\n\\n')\n",
    "                            \n",
    "                            for match in matches:\n",
    "                                match_set = set(match)\n",
    "                                if not any(atom_index in match_set for atom_index in atom_indices):\n",
    "                                    chemical_groups.append(chemical_group)\n",
    "                                    atom_indices.update(match_set)\n",
    "                           \n",
    "                                            \n",
    "    return chemical_groups\n",
    "\n",
    "\n",
    "\n",
    "\n",
    "smiles = 'C=C=C=CC(=O)O'\n",
    "\n",
    "print(find_smiles_patterns('CC(=O)NC1=CC=C(O)C=C1'))"
   ]
  },
  {
   "cell_type": "code",
   "execution_count": 7,
   "id": "ee25f7fb-f21d-47c1-8020-2f21594bf0be",
   "metadata": {},
   "outputs": [
    {
     "name": "stdout",
     "output_type": "stream",
     "text": [
      "matches !!! : \n",
      "((2, 1, 3),) \n",
      "\n",
      "\n",
      "['amide']\n"
     ]
    }
   ],
   "source": [
    "from rdkit import Chem\n",
    "\n",
    "def find_smiles_patterns(smiles):\n",
    "    mol = Chem.MolFromSmiles(smiles) \n",
    "    if mol is None:\n",
    "        return \"Invalid SMILES string. Unable to parse molecule.\"\n",
    "\n",
    "    # Define a list to store the chemical groups found in the SMILES\n",
    "    chemical_groups = []\n",
    "\n",
    "    # SMARTS patterns to recognize chemical groups\n",
    "    smarts_patterns = {\n",
    "        'C=C': 'Alkene',\n",
    "        'C#C': 'Alkyne',\n",
    "        'C(=O)O': 'carboxylic acid',\n",
    "        'C(=O)OC': 'Ester',\n",
    "        'O=C[NH]': 'amide'\n",
    "    \n",
    "    #etc....\n",
    "    }\n",
    "\n",
    "    # Define priority order for chemical groups based on IUPAC nomenclature\n",
    "    priority_order = [\n",
    "    'Ester',\n",
    "    'carboxylic acid',\n",
    "    'amide',\n",
    "    'Alkene',\n",
    "    \"Alkyne\"\n",
    "    #etc......\n",
    "    ]\n",
    "\n",
    "\n",
    "    # Track the atom indices to avoid duplicates\n",
    "    atom_indices = set()\n",
    "    \n",
    "    # Iterate over the priority order and check if each chemical group is present in the molecule\n",
    "    for group in priority_order:\n",
    "        if group in smarts_patterns.values():\n",
    "            for smarts_pattern, chemical_group in smarts_patterns.items():\n",
    "                if chemical_group == group:\n",
    "                    pattern = Chem.MolFromSmarts(smarts_pattern)\n",
    "                    if pattern:\n",
    "                        \n",
    "                        matches = mol.GetSubstructMatches(pattern)\n",
    "        \n",
    "                        if len(matches) > 0:\n",
    "                            \n",
    "                            print('matches !!! : ')\n",
    "                            \n",
    "                            print(matches,'\\n\\n')\n",
    "                            \n",
    "                            for match in matches:\n",
    "                                match_set = set(match)\n",
    "                                if not any(atom_index in match_set for atom_index in atom_indices):\n",
    "                                    chemical_groups.append(chemical_group)\n",
    "                                    atom_indices.update(match_set)\n",
    "                           \n",
    "                                            \n",
    "    return chemical_groups\n",
    "\n",
    "\n",
    "\n",
    "\n",
    "smiles = 'C=C=C=CC(=O)O'\n",
    "\n",
    "print(find_smiles_patterns('CC(=O)NC1=CC=C(O)C=C1'))"
   ]
  },
  {
   "cell_type": "code",
   "execution_count": 2,
   "id": "c43243ca-029e-4232-a5e7-f01f7fca7b1a",
   "metadata": {},
   "outputs": [],
   "source": [
    "smarts_patterns = [\n",
    "    'C=C',\n",
    "    'C#C',\n",
    "    'C(=O)O',\n",
    "    'O=COC',\n",
    "    'O=C[NH]'\n",
    "]\n",
    "from rdkit.Chem.Draw import rdMolDraw2D\n",
    "mol = Chem.MolFromSmiles('C=C=C=CC(=O)O')\n",
    "patt = Chem.MolFromSmarts('C(=O)O')\n",
    "hit_ats = list(mol.GetSubstructMatch(patt))\n",
    "hit_bonds = []\n",
    "for bond in patt.GetBonds():\n",
    "   aid1 = hit_ats[bond.GetBeginAtomIdx()]\n",
    "   aid2 = hit_ats[bond.GetEndAtomIdx()]\n",
    "   hit_bonds.append(mol.GetBondBetweenAtoms(aid1,aid2).GetIdx())\n",
    "d = rdMolDraw2D.MolDraw2DSVG(500, 500) # or MolDraw2DCairo to get PNGs\n",
    "rdMolDraw2D.PrepareAndDrawMolecule(d, mol, highlightAtoms=hit_ats,\n",
    "                                   highlightBonds=hit_bonds)"
   ]
  },
  {
   "cell_type": "code",
   "execution_count": 3,
   "id": "bc4b6b33-081a-4a72-8dca-d1b18cbd32e4",
   "metadata": {},
   "outputs": [
    {
     "data": {
      "image/png": "[encoded data removed]",
      "text/plain": [
       "<rdkit.Chem.rdchem.Mol at 0x20067ec1d90>"
      ]
     },
     "execution_count": 3,
     "metadata": {},
     "output_type": "execute_result"
    }
   ],
   "source": [
    "mol"
   ]
  },
  {
   "cell_type": "raw",
   "id": "3d9313d8-83cc-4c68-83d3-3400c36a663a",
   "metadata": {},
   "source": []
  },
  {
   "cell_type": "code",
   "execution_count": 209,
   "id": "db0a5ffe-b8a0-4c12-aa5f-cd0606472017",
   "metadata": {},
   "outputs": [],
   "source": [
    "smarts_patterns = [\n",
    "    'C=C',\n",
    "    'C#C',\n",
    "    'C(=O)O',\n",
    "    'O=COC',\n",
    "    'O=C[NH]'\n",
    "]\n",
    "mol = Chem.MolFromSmiles('C=C=C=CC(=O)O')\n",
    "patt = Chem.MolFromSmarts('C=C')\n",
    "hit_ats = list(mol.GetSubstructMatch(patt))\n",
    "hit_bonds = []\n",
    "for bond in patt.GetBonds():\n",
    "    aid1 = hit_ats[bond.GetBeginAtomIdx()]\n",
    "    aid2 = hit_ats[bond.GetEndAtomIdx()]\n",
    "    hit_bonds.append(mol.GetBondBetweenAtoms(aid1,aid2).GetIdx())\n",
    "#for bond in patte.GetBonds():\n",
    "    #aid1 = hit_ats[bond.GetBeginAtomIdx()]\n",
    "    #aid2 = hit_ats[bond.GetEndAtomIdx()]\n",
    "    #hit_bonds.append(mol.GetBondBetweenAtoms(aid1,aid2).GetIdx())\n",
    "d = rdMolDraw2D.MolDraw2DSVG(500, 500) # or MolDraw2DCairo to get PNGs\n",
    "rdMolDraw2D.PrepareAndDrawMolecule(d, mol, highlightAtoms=hit_ats,\n",
    "                                   highlightBonds=hit_bonds)"
   ]
  },
  {
   "cell_type": "code",
   "execution_count": 210,
   "id": "1f1428ed-9e16-4d03-8d3c-4faf67604964",
   "metadata": {},
   "outputs": [
    {
     "data": {
      "image/png": "[encoded data removed]",
      "text/plain": [
       "<rdkit.Chem.rdchem.Mol at 0x172ee5de420>"
      ]
     },
     "execution_count": 210,
     "metadata": {},
     "output_type": "execute_result"
    }
   ],
   "source": [
    "mol"
   ]
  },
  {
   "cell_type": "code",
   "execution_count": null,
   "id": "f7038d22-95dc-463b-a822-e5a3a21d6f9b",
   "metadata": {},
   "outputs": [],
   "source": []
  }
 ],
 "metadata": {
  "kernelspec": {
   "display_name": "Python 3 (ipykernel)",
   "language": "python",
   "name": "python3"
  },
  "language_info": {
   "codemirror_mode": {
    "name": "ipython",
    "version": 3
   },
   "file_extension": ".py",
   "mimetype": "text/x-python",
   "name": "python",
   "nbconvert_exporter": "python",
   "pygments_lexer": "ipython3",
   "version": "3.12.3"
  }
 },
 "nbformat": 4,
 "nbformat_minor": 5
}
